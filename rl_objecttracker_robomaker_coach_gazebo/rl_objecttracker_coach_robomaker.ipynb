{
 "cells": [
  {
   "cell_type": "markdown",
   "metadata": {},
   "source": [
    "# Amazon SageMaker RL 및 RoboMaker를 사용한 분산 객체 추적기(Object Tracker) RL 훈련\n",
    "\n",
    "---\n",
    "## 개요\n",
    "\n",
    "이 노트북에서는 [Coach](https://ai.intel.com/r-l-coach/) 툴킷의 [Clipped PPO](https://coach.nervanasys.com/algorithms/policy_optimization/cppo/index.html) 알고리즘 구현, 딥러닝 프레임 워크 인 [Tensorflow](https://www.tensorflow.org/) 및 시뮬레이션 환경으로 [AWS RoboMaker](https://console.aws.amazon.com/robomaker/home#welcome)를 사용하여 로봇(와플이라 명명) 트랙을 훈련시키고 다른 로봇(버거라 명명)을 따르는 방법을 강화 학습으로 수행하는 방법을 보여줍니다.\n",
    "\n",
    "\n",
    "![Training in Action](./object-tracker-world.jpg)\n",
    "\n",
    "---\n",
    "## 어떻게 동작하나요?\n",
    "\n",
    "강화 학습 에이전트(예: 와플)는 보상 기댓값(expected reward)을 극대화하기 위해 주어진 상태(state)에서 행동(action)을 취함으로써 주변 환경(예: 시각적 세계)과 상호 작용함으로써 버거를 추적하고 추적하는 법을 배웁니다. 에이전트는 여러 에피소드들를 통해 시행 착오(trial-and-error)를 통해 훈련에서 최적의 행동 계획을 학습합니다.\n",
    "\n",
    "이 노트북은 SageMaker 및 **롤아웃(rollout)** 을 수행하는 두 개의 RoboMaker 시뮬레이션 환경에서 분산 RL 훈련의 예시를 보여줍니다. 현재 모델 또는 정책(policy)을 사용하여 고정된 수의 에피소드를 실행합니다. 롤아웃은 에이전트 경험(상태 전이 튜플)을 수집하고 이 데이터를 SageMaker와 공유하여 훈련합니다. SageMaker는 모델 정책을 업데이트한 후, 다음 롤아웃 시퀀스를 실행하는 데 사용됩니다. 이 훈련 루프는 모델이 수렴될 때까지 계속됩니다. 보다 엄밀하게, 우리는 다음과 같은 관점에서 문제를 정의할 수 있습니다.\n",
    "\n",
    "1. **목표(Objective)**: 버거를 향하여 운전하는 법을 배웁니다.\n",
    "2. **환경(Environment)**: AWS RoboMaker에서 호스팅되는 버거가 있는 시뮬레이터.\n",
    "3. **상태(State)**: 와플 헤드 카메라로 캡처한 주행 POV 이미지.\n",
    "4. **동작(Action)**: 다른 각도에서 6개의 개별 스티어링 휠 위치 (구성 가능)\n",
    "5. **보상(Reward)** : 보상은 버거와의 거리에 반비례합니다. 와플이 햄버거에 가까워질수록 더 많은 보상을 받습니다. 액션이 버거에서 멀어지면 0의 보상을 얻습니다.\n",
    "\n",
    "---\n",
    "## 전제 조건(Prequisites)\n",
    "### 라이브러리 임포트\n",
    "\n",
    "시작하기 위해, 필요한 Python 라이브러리를 가져와서 권한 및 구성을 위한 몇 가지 전제 조건으로 환경을 설정합니다.\n",
    "\n",
    "로컬 시스템 또는 SageMaker 노트북 인스턴스에서 이 노트북을 실행할 수 있습니다. 이 두 시나리오에서 다음 코드 셀들을 실행하여 `SageMaker`에서 훈련 작업을 시작하고 `RoboMaker`에서 시뮬레이션 작업을 시작할 수 있습니다."
   ]
  },
  {
   "cell_type": "code",
   "execution_count": 1,
   "metadata": {},
   "outputs": [],
   "source": [
    "import sagemaker\n",
    "import boto3\n",
    "import sys\n",
    "import os\n",
    "import glob\n",
    "import re\n",
    "import subprocess\n",
    "from IPython.display import Markdown\n",
    "import time\n",
    "from time import gmtime, strftime\n",
    "sys.path.append(\"common\")\n",
    "from misc import get_execution_role\n",
    "from sagemaker.rl import RLEstimator, RLToolkit, RLFramework\n",
    "from markdown_helper import *"
   ]
  },
  {
   "cell_type": "markdown",
   "metadata": {},
   "source": [
    "### S3 버킷 설정"
   ]
  },
  {
   "cell_type": "code",
   "execution_count": 2,
   "metadata": {},
   "outputs": [
    {
     "name": "stdout",
     "output_type": "stream",
     "text": [
      "S3 bucket path: s3://sagemaker-us-west-2-143656149352/\n"
     ]
    }
   ],
   "source": [
    "# S3 bucket\n",
    "sage_session = sagemaker.session.Session()\n",
    "s3_bucket = sage_session.default_bucket()\n",
    "s3_output_path = 's3://{}/'.format(s3_bucket) # SDK appends the job name and output folder\n",
    "print(\"S3 bucket path: {}\".format(s3_output_path))"
   ]
  },
  {
   "cell_type": "markdown",
   "metadata": {},
   "source": [
    "### 변수 정의\n",
    "\n",
    "훈련 작업의 작업 접두사(prefix) 및 훈련 작업과 시뮬레이션 작업 간의 동기화에 필요한 메타데이터를 저장하기 위한 s3_prefix와 같은 변수를 정의합니다."
   ]
  },
  {
   "cell_type": "code",
   "execution_count": 3,
   "metadata": {},
   "outputs": [
    {
     "name": "stdout",
     "output_type": "stream",
     "text": [
      "S3 bucket path: s3://sagemaker-us-west-2-143656149352/rl-object-tracker-sagemaker-200326-072204\n",
      "Model checkpoints and other metadata will be stored at: s3://sagemaker-us-west-2-143656149352/rl-object-tracker-sagemaker-200326-072204\n"
     ]
    }
   ],
   "source": [
    "# create unique job name \n",
    "job_name_prefix = 'rl-object-tracker'\n",
    "\n",
    "# create unique job name\n",
    "job_name = s3_prefix = job_name_prefix + \"-sagemaker-\" + strftime(\"%y%m%d-%H%M%S\", gmtime())\n",
    "\n",
    "# Duration of job in seconds (5 hours)\n",
    "job_duration_in_seconds = 3600 * 5\n",
    "\n",
    "aws_region = sage_session.boto_region_name\n",
    "print(\"S3 bucket path: {}{}\".format(s3_output_path, job_name))\n",
    "\n",
    "\n",
    "if aws_region not in [\"us-west-2\", \"us-east-1\", \"eu-west-1\"]:\n",
    "    raise Exception(\"This notebook uses RoboMaker which is available only in US East (N. Virginia), US West (Oregon) and EU (Ireland). Please switch to one of these regions.\")\n",
    "print(\"Model checkpoints and other metadata will be stored at: {}{}\".format(s3_output_path, job_name))"
   ]
  },
  {
   "cell_type": "markdown",
   "metadata": {},
   "source": [
    "### IAM 역할 생성\n",
    "\n",
    "SageMaker 노트북 `role = sagemaker.get_execution_role()`을 실행할 때 실행 역할(execution role)을 얻거나 로컬 시스템에서 실행할 때 utils 메소드 `role = get_execution_role()`을 사용하여 실행 역할을 작성하세요."
   ]
  },
  {
   "cell_type": "code",
   "execution_count": 4,
   "metadata": {},
   "outputs": [
    {
     "name": "stdout",
     "output_type": "stream",
     "text": [
      "Using IAM role arn: arn:aws:iam::143656149352:role/service-role/AmazonSageMaker-ExecutionRole-20200323T143836\n"
     ]
    }
   ],
   "source": [
    "try:\n",
    "    role = sagemaker.get_execution_role()\n",
    "except:\n",
    "    role = get_execution_role('sagemaker')\n",
    "\n",
    "print(\"Using IAM role arn: {}\".format(role))"
   ]
  },
  {
   "cell_type": "markdown",
   "metadata": {},
   "source": [
    "### 이 노트북에서 AWS RoboMaker를 호출하기 위한 권한 설정\n",
    "\n",
    "이 노트북이 AWS RoboMaker 작업을 실행할 수 있게 하려면, 이 노트북의 기본 실행 역할에 하나의 신뢰 관계(trust relationshop)를 추가해야 합니다."
   ]
  },
  {
   "cell_type": "code",
   "execution_count": 5,
   "metadata": {},
   "outputs": [
    {
     "data": {
      "text/markdown": [
       "1. IAM 콘솔로 이동하여 현재 SageMaker 역할을 편집하세요.: [AmazonSageMaker-ExecutionRole-20200323T143836](https://console.aws.amazon.com/iam/home#/roles/AmazonSageMaker-ExecutionRole-20200323T143836).\n",
       "2. 그런 다음 `Trust relationships tab`으로 이동하여 `Edit Trust Relationship`을 클릭하세요. \n",
       "3. JSON Blob을 다음으로 변경합니다.:\n",
       "```json\n",
       "            {\n",
       "              \"Version\": \"2012-10-17\",\n",
       "              \"Statement\": [\n",
       "                {\n",
       "                  \"Effect\": \"Allow\",\n",
       "                  \"Principal\": {\n",
       "                    \"Service\": [\n",
       "                      \"sagemaker.amazonaws.com\",\n",
       "                      \"robomaker.amazonaws.com\"\n",
       "                    ]\n",
       "                  },\n",
       "                  \"Action\": \"sts:AssumeRole\"\n",
       "                }\n",
       "              ]\n",
       "            }```\n",
       "4. 완료 후, `Update Trust Policy`를 클릭하면 완료됩니다."
      ],
      "text/plain": [
       "<IPython.core.display.Markdown object>"
      ]
     },
     "metadata": {},
     "output_type": "display_data"
    }
   ],
   "source": [
    "display(Markdown(generate_help_for_robomaker_trust_relationship(role)))"
   ]
  },
  {
   "cell_type": "markdown",
   "metadata": {},
   "source": [
    "## VPC 구성\n",
    "\n",
    "SageMaker와 RoboMaker는 네트워크를 통해 서로 통신해야 하므로, 이러한 서비스는 모두 VPC 모드에서 실행해야 합니다. 작업 시작 스크립트에 서브넷과 보안 그룹을 제공하면 됩니다. 이 예에서는 기본 VPC 구성을 사용합니다."
   ]
  },
  {
   "cell_type": "code",
   "execution_count": 6,
   "metadata": {},
   "outputs": [
    {
     "name": "stdout",
     "output_type": "stream",
     "text": [
      "Using default VPC: vpc-477fc93f\n",
      "Using default security group: ['sg-f8a6d6b4']\n",
      "Using default subnets: ['subnet-5ef4e604', 'subnet-5fd24774', 'subnet-db0e0da2', 'subnet-8286abc9']\n"
     ]
    }
   ],
   "source": [
    "ec2 = boto3.client('ec2')\n",
    "default_vpc = [vpc['VpcId'] for vpc in ec2.describe_vpcs()['Vpcs'] if vpc[\"IsDefault\"] == True][0]\n",
    "\n",
    "default_security_groups = [group[\"GroupId\"] for group in ec2.describe_security_groups()['SecurityGroups'] \\\n",
    "                   if group[\"GroupName\"] == \"default\" and group[\"VpcId\"] == default_vpc]\n",
    "\n",
    "default_subnets = [subnet[\"SubnetId\"] for subnet in ec2.describe_subnets()[\"Subnets\"] \\\n",
    "                  if subnet[\"VpcId\"] == default_vpc and subnet['DefaultForAz']==True]\n",
    "\n",
    "print(\"Using default VPC:\", default_vpc)\n",
    "print(\"Using default security group:\", default_security_groups)\n",
    "print(\"Using default subnets:\", default_subnets)"
   ]
  },
  {
   "cell_type": "markdown",
   "metadata": {},
   "source": [
    "VPC 모드에서 실행 중인 SageMaker 작업은 S3 리소스에 액세스할 수 없습니다. 따라서 SageMaker 컨테이너에서 S3에 액세스할 수 있도록 VPC S3 엔드포인트를 생성해야 합니다. VPC 모드에 대한 자세한 내용을 보려면 [이 링크](https://docs.aws.amazon.com/sagemaker/latest/dg/train-vpc.html)를 방문하세요."
   ]
  },
  {
   "cell_type": "markdown",
   "metadata": {},
   "source": [
    "> 아래 셀은 VPC S3 엔드포인트를 생성하기 위해 이 예제를 처음 실행하는 경우에만 실행해야 합니다.\n",
    "이 예제를 처음 실행하는 경우에만 VPC S3 엔드포인트를 생성하려면 아래의 셀을 실행해야 합니다. 불완전한 권한 또는 다른 이유로 인해 실행이 실패하면, [create-s3-endpoint.md](create-s3-endpoint.md) (이 노트북과 동일한 폴더에 있음)를 따라 VPC S3 엔드포인트를 수동으로 생성하세요."
   ]
  },
  {
   "cell_type": "code",
   "execution_count": 7,
   "metadata": {},
   "outputs": [
    {
     "name": "stdout",
     "output_type": "stream",
     "text": [
      "Trying to attach S3 endpoints to the following route tables: ['rtb-90e370eb']\n",
      "S3 endpoint created successfully!\n"
     ]
    }
   ],
   "source": [
    "try:\n",
    "    route_tables = [route_table[\"RouteTableId\"] for route_table in ec2.describe_route_tables()['RouteTables']\\\n",
    "                if route_table['VpcId'] == default_vpc]\n",
    "except Exception as e:\n",
    "    if \"UnauthorizedOperation\" in str(e):\n",
    "        display(Markdown(generate_help_for_s3_endpoint_permissions(role)))\n",
    "    else:\n",
    "        display(Markdown(create_s3_endpoint_manually(aws_region, default_vpc)))\n",
    "    raise e\n",
    "\n",
    "print(\"Trying to attach S3 endpoints to the following route tables:\", route_tables)\n",
    "\n",
    "assert len(route_tables) >= 1, \"No route tables were found. Please follow the VPC S3 endpoint creation \"\\\n",
    "                              \"guide by clicking the above link.\"\n",
    "\n",
    "try:\n",
    "    ec2.create_vpc_endpoint(DryRun=False,\n",
    "                           VpcEndpointType=\"Gateway\",\n",
    "                           VpcId=default_vpc,\n",
    "                           ServiceName=\"com.amazonaws.{}.s3\".format(aws_region),\n",
    "                           RouteTableIds=route_tables)\n",
    "    print(\"S3 endpoint created successfully!\")\n",
    "except Exception as e:\n",
    "    if \"RouteAlreadyExists\" in str(e):\n",
    "        print(\"S3 endpoint already exists.\")\n",
    "    elif \"UnauthorizedOperation\" in str(e):\n",
    "        display(Markdown(generate_help_for_s3_endpoint_permissions(role)))\n",
    "        raise e\n",
    "    else:\n",
    "        display(Markdown(create_s3_endpoint_manually(aws_region, default_vpc)))\n",
    "        raise e"
   ]
  },
  {
   "cell_type": "markdown",
   "metadata": {},
   "source": [
    "## 환경 설정"
   ]
  },
  {
   "cell_type": "markdown",
   "metadata": {},
   "source": [
    "환경은 \"object_tracker_env.py\"라는 Python 파일에 정의되어 있으며, 파일은 `src/robomaker/environments/`에 있습니다. 이 파일은 Gazebo 기반 RoboMakersimulator의 gym 인터페이스를 구현합니다. 이것은 SageMaker와 RoboMaker에서 사용하는 공통 환경 파일입니다. 환경 변수 - `NODE_TYPE`은 코드가 실행 중인 노드를 정의합니다. 따라서 `rospy` 의존성이 있는 표현식은 RoboMaker에서만 실행됩니다.\n",
    "\n",
    "이 파일에서 `reward_function`을 수정하여 다양한 보상 함수들을 실험할 수 있습니다. `TurtleBot3ObjectTrackerAndFollowerDiscreteEnv` 클래스의 스텝 메소드를 수정하여 행동 공간(action space) 및 조향 각도(steering angles)를 변경할 수 있습니다."
   ]
  },
  {
   "cell_type": "markdown",
   "metadata": {},
   "source": [
    "### RL 알고리즘에 대한 사전 설정 구성\n",
    "RL 훈련 작업을 구성하는 파라미터는 `src/robomaker/presets/object_tracker.py`에 정의되어 있습니다. 사전 설정 파일을 사용하여 에이전트 파라메터들을 정의하여 특정 에이전트 알고리즘을 선택할 수 있습니다. 이 예에서는 Clipped PPO를 사용하는 것이 좋습니다.\n",
    "이 파일을 편집하여 학습률(learning_rate), 신경망 구조, 배치 크기(batch_size), 감가율(discount factor) 등과 같은 알고리즘 매개 변수를 수정할 수 있습니다."
   ]
  },
  {
   "cell_type": "code",
   "execution_count": 8,
   "metadata": {},
   "outputs": [
    {
     "name": "stdout",
     "output_type": "stream",
     "text": [
      "\u001b[34mfrom\u001b[39;49;00m \u001b[04m\u001b[36mrl_coach.agents.clipped_ppo_agent\u001b[39;49;00m \u001b[34mimport\u001b[39;49;00m ClippedPPOAgentParameters\r\n",
      "\u001b[34mfrom\u001b[39;49;00m \u001b[04m\u001b[36mrl_coach.base_parameters\u001b[39;49;00m \u001b[34mimport\u001b[39;49;00m VisualizationParameters, PresetValidationParameters\r\n",
      "\u001b[34mfrom\u001b[39;49;00m \u001b[04m\u001b[36mrl_coach.core_types\u001b[39;49;00m \u001b[34mimport\u001b[39;49;00m TrainingSteps, EnvironmentEpisodes, EnvironmentSteps, RunPhase\r\n",
      "\u001b[34mfrom\u001b[39;49;00m \u001b[04m\u001b[36mrl_coach.environments.gym_environment\u001b[39;49;00m \u001b[34mimport\u001b[39;49;00m GymVectorEnvironment\r\n",
      "\u001b[34mfrom\u001b[39;49;00m \u001b[04m\u001b[36mrl_coach.graph_managers.basic_rl_graph_manager\u001b[39;49;00m \u001b[34mimport\u001b[39;49;00m BasicRLGraphManager\r\n",
      "\u001b[34mfrom\u001b[39;49;00m \u001b[04m\u001b[36mrl_coach.graph_managers.graph_manager\u001b[39;49;00m \u001b[34mimport\u001b[39;49;00m ScheduleParameters\r\n",
      "\u001b[34mfrom\u001b[39;49;00m \u001b[04m\u001b[36mrl_coach.schedules\u001b[39;49;00m \u001b[34mimport\u001b[39;49;00m LinearSchedule\r\n",
      "\u001b[34mfrom\u001b[39;49;00m \u001b[04m\u001b[36mrl_coach.memories.memory\u001b[39;49;00m \u001b[34mimport\u001b[39;49;00m MemoryGranularity\r\n",
      "\r\n",
      "\u001b[34mfrom\u001b[39;49;00m \u001b[04m\u001b[36mrl_coach.exploration_policies.categorical\u001b[39;49;00m \u001b[34mimport\u001b[39;49;00m CategoricalParameters\r\n",
      "\u001b[34mfrom\u001b[39;49;00m \u001b[04m\u001b[36mrl_coach.filters.filter\u001b[39;49;00m \u001b[34mimport\u001b[39;49;00m NoInputFilter, NoOutputFilter, InputFilter\r\n",
      "\u001b[34mfrom\u001b[39;49;00m \u001b[04m\u001b[36mrl_coach.filters.observation.observation_stacking_filter\u001b[39;49;00m \u001b[34mimport\u001b[39;49;00m ObservationStackingFilter\r\n",
      "\u001b[34mfrom\u001b[39;49;00m \u001b[04m\u001b[36mrl_coach.filters.observation.observation_rgb_to_y_filter\u001b[39;49;00m \u001b[34mimport\u001b[39;49;00m ObservationRGBToYFilter\r\n",
      "\u001b[34mfrom\u001b[39;49;00m \u001b[04m\u001b[36mrl_coach.filters.observation.observation_to_uint8_filter\u001b[39;49;00m \u001b[34mimport\u001b[39;49;00m ObservationToUInt8Filter\r\n",
      "\r\n",
      "\u001b[37m####################\u001b[39;49;00m\r\n",
      "\u001b[37m# Graph Scheduling #\u001b[39;49;00m\r\n",
      "\u001b[37m####################\u001b[39;49;00m\r\n",
      "\r\n",
      "schedule_params = ScheduleParameters()\r\n",
      "schedule_params.improve_steps = TrainingSteps(\u001b[34m10000000\u001b[39;49;00m)\r\n",
      "schedule_params.steps_between_evaluation_periods = EnvironmentEpisodes(\u001b[34m40\u001b[39;49;00m)\r\n",
      "schedule_params.evaluation_steps = EnvironmentEpisodes(\u001b[34m5\u001b[39;49;00m)\r\n",
      "schedule_params.heatup_steps = EnvironmentSteps(\u001b[34m0\u001b[39;49;00m)\r\n",
      "\r\n",
      "\u001b[37m#########\u001b[39;49;00m\r\n",
      "\u001b[37m# Agent #\u001b[39;49;00m\r\n",
      "\u001b[37m#########\u001b[39;49;00m\r\n",
      "agent_params = ClippedPPOAgentParameters()\r\n",
      "\r\n",
      "agent_params.memory.max_size = (MemoryGranularity.Transitions, \u001b[34m10\u001b[39;49;00m**\u001b[34m5\u001b[39;49;00m)\r\n",
      "\r\n",
      "agent_params.network_wrappers[\u001b[33m'\u001b[39;49;00m\u001b[33mmain\u001b[39;49;00m\u001b[33m'\u001b[39;49;00m].learning_rate = \u001b[34m0.0003\u001b[39;49;00m\r\n",
      "agent_params.network_wrappers[\u001b[33m'\u001b[39;49;00m\u001b[33mmain\u001b[39;49;00m\u001b[33m'\u001b[39;49;00m].input_embedders_parameters[\u001b[33m'\u001b[39;49;00m\u001b[33mobservation\u001b[39;49;00m\u001b[33m'\u001b[39;49;00m].activation_function = \u001b[33m'\u001b[39;49;00m\u001b[33mrelu\u001b[39;49;00m\u001b[33m'\u001b[39;49;00m\r\n",
      "agent_params.network_wrappers[\u001b[33m'\u001b[39;49;00m\u001b[33mmain\u001b[39;49;00m\u001b[33m'\u001b[39;49;00m].middleware_parameters.activation_function = \u001b[33m'\u001b[39;49;00m\u001b[33mrelu\u001b[39;49;00m\u001b[33m'\u001b[39;49;00m\r\n",
      "agent_params.network_wrappers[\u001b[33m'\u001b[39;49;00m\u001b[33mmain\u001b[39;49;00m\u001b[33m'\u001b[39;49;00m].batch_size = \u001b[34m64\u001b[39;49;00m\r\n",
      "agent_params.network_wrappers[\u001b[33m'\u001b[39;49;00m\u001b[33mmain\u001b[39;49;00m\u001b[33m'\u001b[39;49;00m].optimizer_epsilon = \u001b[34m1e-5\u001b[39;49;00m\r\n",
      "agent_params.network_wrappers[\u001b[33m'\u001b[39;49;00m\u001b[33mmain\u001b[39;49;00m\u001b[33m'\u001b[39;49;00m].adam_optimizer_beta2 = \u001b[34m0.999\u001b[39;49;00m\r\n",
      "\r\n",
      "agent_params.algorithm.clip_likelihood_ratio_using_epsilon = \u001b[34m0.2\u001b[39;49;00m\r\n",
      "agent_params.algorithm.clipping_decay_schedule = LinearSchedule(\u001b[34m1.0\u001b[39;49;00m, \u001b[34m0\u001b[39;49;00m, \u001b[34m1000000\u001b[39;49;00m)\r\n",
      "agent_params.algorithm.beta_entropy = \u001b[34m0.01\u001b[39;49;00m  \u001b[37m# also try 0.001\u001b[39;49;00m\r\n",
      "agent_params.algorithm.gae_lambda = \u001b[34m0.95\u001b[39;49;00m\r\n",
      "agent_params.algorithm.discount = \u001b[34m0.999\u001b[39;49;00m\r\n",
      "agent_params.algorithm.optimization_epochs = \u001b[34m10\u001b[39;49;00m\r\n",
      "agent_params.algorithm.estimate_state_value_using_gae = \u001b[36mTrue\u001b[39;49;00m\r\n",
      "agent_params.algorithm.num_steps_between_copying_online_weights_to_target = EnvironmentEpisodes(\u001b[34m20\u001b[39;49;00m)\r\n",
      "agent_params.algorithm.num_consecutive_playing_steps = EnvironmentEpisodes(\u001b[34m20\u001b[39;49;00m)\r\n",
      "agent_params.exploration = CategoricalParameters()\r\n",
      "\r\n",
      "\u001b[37m###############\u001b[39;49;00m\r\n",
      "\u001b[37m# Environment #\u001b[39;49;00m\r\n",
      "\u001b[37m###############\u001b[39;49;00m\r\n",
      "turtlebot3_input_filter = InputFilter(is_a_reference_filter=\u001b[36mTrue\u001b[39;49;00m)\r\n",
      "turtlebot3_input_filter.add_observation_filter(\u001b[33m'\u001b[39;49;00m\u001b[33mobservation\u001b[39;49;00m\u001b[33m'\u001b[39;49;00m, \u001b[33m'\u001b[39;49;00m\u001b[33mto_grayscale\u001b[39;49;00m\u001b[33m'\u001b[39;49;00m, ObservationRGBToYFilter())\r\n",
      "turtlebot3_input_filter.add_observation_filter(\u001b[33m'\u001b[39;49;00m\u001b[33mobservation\u001b[39;49;00m\u001b[33m'\u001b[39;49;00m, \u001b[33m'\u001b[39;49;00m\u001b[33mto_uint8\u001b[39;49;00m\u001b[33m'\u001b[39;49;00m, ObservationToUInt8Filter(\u001b[34m0\u001b[39;49;00m, \u001b[34m255\u001b[39;49;00m))\r\n",
      "turtlebot3_input_filter.add_observation_filter(\u001b[33m'\u001b[39;49;00m\u001b[33mobservation\u001b[39;49;00m\u001b[33m'\u001b[39;49;00m, \u001b[33m'\u001b[39;49;00m\u001b[33mstacking\u001b[39;49;00m\u001b[33m'\u001b[39;49;00m, ObservationStackingFilter(\u001b[34m1\u001b[39;49;00m))\r\n",
      "\r\n",
      "env_params = GymVectorEnvironment()\r\n",
      "env_params.default_input_filter = turtlebot3_input_filter\r\n",
      "env_params.level = \u001b[33m'\u001b[39;49;00m\u001b[33mSageMaker-TurtleBot3-Discrete-v0\u001b[39;49;00m\u001b[33m'\u001b[39;49;00m\r\n",
      "\r\n",
      "vis_params = VisualizationParameters()\r\n",
      "vis_params.dump_mp4 = \u001b[36mFalse\u001b[39;49;00m\r\n",
      "\r\n",
      "\u001b[37m########\u001b[39;49;00m\r\n",
      "\u001b[37m# Test #\u001b[39;49;00m\r\n",
      "\u001b[37m########\u001b[39;49;00m\r\n",
      "preset_validation_params = PresetValidationParameters()\r\n",
      "preset_validation_params.test = \u001b[36mTrue\u001b[39;49;00m\r\n",
      "preset_validation_params.min_reward_threshold = \u001b[34m400\u001b[39;49;00m\r\n",
      "preset_validation_params.max_episodes_to_achieve_reward = \u001b[34m1000\u001b[39;49;00m\r\n",
      "\r\n",
      "graph_manager = BasicRLGraphManager(agent_params=agent_params, env_params=env_params,\r\n",
      "                                    schedule_params=schedule_params, vis_params=vis_params,\r\n",
      "                                    preset_validation_params=preset_validation_params)\r\n"
     ]
    }
   ],
   "source": [
    "!pygmentize src/robomaker/presets/object_tracker.py"
   ]
  },
  {
   "cell_type": "markdown",
   "metadata": {},
   "source": [
    "### 엔트리포인트 훈련\n",
    "\n",
    "훈련 코드는 `/src` 디렉토리에 업로드된 “training_worker.py” 파일에 작성됩니다. 고수준(high level)에서 아래 작업들을 수행합니다.\n",
    "\n",
    "- SageMaker 노드의 IP 주소를 업로드합니다.\n",
    "- 롤아웃 작업자 (RoboMaker 시뮬레이터)가 보낸 에이전트 경험을 받는 Redis 서버를 시작합니다.\n",
    "- 특정 개수의 에피소드들이 수신된 후 매번 모델을 훈련시킵니다.\n",
    "- S3에 신규 모델 가중치(model weight)를 업로드합니다. 그런 다음, 롤아웃 작업자는 모델을 업데이트하여 다음 에피소드 셋을 실행합니다."
   ]
  },
  {
   "cell_type": "code",
   "execution_count": 9,
   "metadata": {},
   "outputs": [],
   "source": [
    "# Uncomment the line below to see the training code\n",
    "#!pygmentize src/training_worker.py"
   ]
  },
  {
   "cell_type": "markdown",
   "metadata": {},
   "source": [
    "## Python SDK / 스크립트 모드를 사용하여 모델 훈련"
   ]
  },
  {
   "cell_type": "code",
   "execution_count": 10,
   "metadata": {},
   "outputs": [
    {
     "name": "stdout",
     "output_type": "stream",
     "text": [
      "upload: src/robomaker/environments/object_tracker_env.py to s3://sagemaker-us-west-2-143656149352/rl-object-tracker-sagemaker-200326-072204/environments/object_tracker_env.py\n",
      "upload: src/robomaker/environments/__init__.py to s3://sagemaker-us-west-2-143656149352/rl-object-tracker-sagemaker-200326-072204/environments/__init__.py\n",
      "upload: src/robomaker/presets/object_tracker.py to s3://sagemaker-us-west-2-143656149352/rl-object-tracker-sagemaker-200326-072204/presets/object_tracker.py\n",
      "upload: src/robomaker/presets/__init__.py to s3://sagemaker-us-west-2-143656149352/rl-object-tracker-sagemaker-200326-072204/presets/__init__.py\n"
     ]
    }
   ],
   "source": [
    "s3_location = \"s3://%s/%s\" % (s3_bucket, s3_prefix)\n",
    "!aws s3 rm --recursive {s3_location}\n",
    "\n",
    "\n",
    "# Make any changes to the envrironment and preset files below and upload these files if you want to use custom environment and preset\n",
    "!aws s3 cp src/robomaker/environments/ {s3_location}/environments/ --recursive --exclude \".ipynb_checkpoints*\"\n",
    "!aws s3 cp src/robomaker/presets/ {s3_location}/presets/ --recursive --exclude \".ipynb_checkpoints*\""
   ]
  },
  {
   "cell_type": "markdown",
   "metadata": {},
   "source": [
    "먼저, Cloudwatch 로그에서 캡처하려는 다음 알고리즘 지표(metric)를 정의하여 훈련 진행 상황을 모니터링합니다. 이들은 알고리즘에 특화된 파라메터들이며 알고리즘마다 다를 수 있습니다. 이 예에서는 [Clipped PPO](https://coach.nervanasys.com/algorithms/policy_optimization/cppo/index.html)를 사용합니다."
   ]
  },
  {
   "cell_type": "code",
   "execution_count": 11,
   "metadata": {},
   "outputs": [],
   "source": [
    "metric_definitions = [\n",
    "    # Training> Name=main_level/agent, Worker=0, Episode=19, Total reward=-102.88, Steps=19019, Training iteration=1\n",
    "    {'Name': 'reward-training',\n",
    "     'Regex': '^Training>.*Total reward=(.*?),'},\n",
    "    \n",
    "    # Policy training> Surrogate loss=-0.32664725184440613, KL divergence=7.255815035023261e-06, Entropy=2.83156156539917, training epoch=0, learning_rate=0.00025\n",
    "    {'Name': 'ppo-surrogate-loss',\n",
    "     'Regex': '^Policy training>.*Surrogate loss=(.*?),'},\n",
    "     {'Name': 'ppo-entropy',\n",
    "     'Regex': '^Policy training>.*Entropy=(.*?),'},\n",
    "   \n",
    "    # Testing> Name=main_level/agent, Worker=0, Episode=19, Total reward=1359.12, Steps=20015, Training iteration=2\n",
    "    {'Name': 'reward-testing',\n",
    "     'Regex': '^Testing>.*Total reward=(.*?),'},\n",
    "]"
   ]
  },
  {
   "cell_type": "markdown",
   "metadata": {},
   "source": [
    "RL 작업을 훈련하기 위해 RLEstimator를 사용합니다.\n",
    "\n",
    "1. 환경, 사전 설정 및 훈련 코드가 업로드되는 소스 디렉토리를 지정합니다.\n",
    "2. 엔트리포인트를 훈련 코드로 지정합니다.\n",
    "3. RL 툴킷 및 프레임워크 선택을 지정합니다. RL 컨테이너의 ECR 경로로 자동 확인 가능합니다.\n",
    "4. 모델 체크포인트 및 메타데이터를 저장하기 위해 인스턴스 수, 인스턴스 유형, 작업 이름, s3_bucket 및 s3_prefix와 같은 학습 파라메터들을 정의합니다. **현재 1개의 훈련 인스턴스 만 지원됩니다.**\n",
    "5. 이 예에서는 RLCOACH_PRESET을 \"object_tracker\"로 설정합니다.\n",
    "6. 로그에서 캡처하려는 지표를 정의합니다. CloudWatch 및 SageMaker Notebook에서도 시각화할 수 있습니다."
   ]
  },
  {
   "cell_type": "code",
   "execution_count": 12,
   "metadata": {},
   "outputs": [],
   "source": [
    "RLCOACH_PRESET = \"object_tracker\"\n",
    "\n",
    "instance_type = \"ml.c5.4xlarge\"\n",
    "    \n",
    "estimator = RLEstimator(entry_point=\"training_worker.py\",\n",
    "                        source_dir='src',\n",
    "                        dependencies=[\"common/sagemaker_rl\"],\n",
    "                        toolkit=RLToolkit.COACH,\n",
    "                        toolkit_version='0.11',\n",
    "                        framework=RLFramework.TENSORFLOW,\n",
    "                        role=role,\n",
    "                        train_instance_type=instance_type,\n",
    "                        train_instance_count=1,\n",
    "                        output_path=s3_output_path,\n",
    "                        base_job_name=job_name_prefix,\n",
    "                        train_max_run=job_duration_in_seconds,\n",
    "                        hyperparameters={\"s3_bucket\": s3_bucket,\n",
    "                                         \"s3_prefix\": s3_prefix,\n",
    "                                         \"aws_region\": aws_region,\n",
    "                                         \"RLCOACH_PRESET\": RLCOACH_PRESET,\n",
    "                                      },\n",
    "                        metric_definitions = metric_definitions,\n",
    "                        subnets=default_subnets,\n",
    "                        security_group_ids=default_security_groups,\n",
    "                    )\n",
    "\n",
    "estimator.fit(job_name=job_name, wait=False)"
   ]
  },
  {
   "cell_type": "markdown",
   "metadata": {},
   "source": [
    "### Robomaker job 시작"
   ]
  },
  {
   "cell_type": "code",
   "execution_count": 13,
   "metadata": {},
   "outputs": [],
   "source": [
    "from botocore.exceptions import UnknownServiceError\n",
    "\n",
    "robomaker = boto3.client(\"robomaker\")"
   ]
  },
  {
   "cell_type": "markdown",
   "metadata": {},
   "source": [
    "### 시뮬레이션 어플리케이션 생성\n",
    "\n",
    "먼저 `object-tracker public bundle`을 사용하여 RoboMaker 시뮬레이션 애플리케이션을 만듭니다. 이 번들에 대해 자세히 알아보거나 수정하려면 [RoboMaker 샘플 애플리케이션 Github 리포지토리](https://github.com/aws-robotics/aws-robomaker-sample-application-objecttracker)를 참조하세요."
   ]
  },
  {
   "cell_type": "code",
   "execution_count": 14,
   "metadata": {},
   "outputs": [],
   "source": [
    "bundle_s3_key = 'object-tracker/simulation_ws.tar.gz'\n",
    "bundle_source = {'s3Bucket': s3_bucket,\n",
    "                 's3Key': bundle_s3_key,\n",
    "                 'architecture': \"X86_64\"}\n",
    "simulation_software_suite={'name': 'Gazebo',\n",
    "                           'version': '7'}\n",
    "robot_software_suite={'name': 'ROS',\n",
    "                      'version': 'Kinetic'}\n",
    "rendering_engine={'name': 'OGRE',\n",
    "                  'version': '1.x'}"
   ]
  },
  {
   "cell_type": "code",
   "execution_count": 15,
   "metadata": {},
   "outputs": [
    {
     "name": "stdout",
     "output_type": "stream",
     "text": [
      "--2020-03-26 07:37:15--  https://s3-us-west-2.amazonaws.com/robomaker-applications-us-west-2-11d8d0439f6a/object-tracker/object-tracker-1.0.80.0.1.0.130.0/simulation_ws.tar.gz\n",
      "Resolving s3-us-west-2.amazonaws.com (s3-us-west-2.amazonaws.com)... 52.218.225.160\n",
      "Connecting to s3-us-west-2.amazonaws.com (s3-us-west-2.amazonaws.com)|52.218.225.160|:443... connected.\n",
      "HTTP request sent, awaiting response... 200 OK\n",
      "Length: 960265027 (916M) [application/x-tar]\n",
      "Saving to: ‘simulation_ws.tar.gz’\n",
      "\n",
      "simulation_ws.tar.g 100%[===================>] 915.78M  39.6MB/s    in 23s     \n",
      "\n",
      "2020-03-26 07:37:38 (39.7 MB/s) - ‘simulation_ws.tar.gz’ saved [960265027/960265027]\n",
      "\n",
      "upload: ./simulation_ws.tar.gz to s3://sagemaker-us-west-2-143656149352/object-tracker/simulation_ws.tar.gz\n"
     ]
    }
   ],
   "source": [
    "simulation_application_bundle_location = \"https://s3-us-west-2.amazonaws.com/robomaker-applications-us-west-2-11d8d0439f6a/object-tracker/object-tracker-1.0.80.0.1.0.130.0/simulation_ws.tar.gz\"\n",
    "\n",
    "!wget {simulation_application_bundle_location}\n",
    "!aws s3 cp simulation_ws.tar.gz s3://{s3_bucket}/{bundle_s3_key}\n",
    "!rm simulation_ws.tar.gz"
   ]
  },
  {
   "cell_type": "code",
   "execution_count": 16,
   "metadata": {},
   "outputs": [
    {
     "name": "stdout",
     "output_type": "stream",
     "text": [
      "Created a new simulation app with ARN: arn:aws:robomaker:us-west-2:143656149352:simulation-application/object-tracker-sample-application200326-073753/1585208273118\n"
     ]
    }
   ],
   "source": [
    "app_name = \"object-tracker-sample-application\" + strftime(\"%y%m%d-%H%M%S\", gmtime())\n",
    "\n",
    "try:\n",
    "    response = robomaker.create_simulation_application(name=app_name,\n",
    "                                                   sources=[bundle_source],\n",
    "                                                   simulationSoftwareSuite=simulation_software_suite,\n",
    "                                                   robotSoftwareSuite=robot_software_suite,\n",
    "                                                   renderingEngine=rendering_engine\n",
    "                                                  )\n",
    "    simulation_app_arn = response[\"arn\"]\n",
    "    print(\"Created a new simulation app with ARN:\", simulation_app_arn)\n",
    "except Exception as e:\n",
    "    if \"AccessDeniedException\" in str(e):\n",
    "        display(Markdown(generate_help_for_robomaker_all_permissions(role)))\n",
    "        raise e\n",
    "    else:\n",
    "        raise e"
   ]
  },
  {
   "cell_type": "markdown",
   "metadata": {},
   "source": [
    "### RoboMaker에서 시뮬레이션 작업 시작\n",
    "\n",
    "환경을 시뮬레이션하고 훈련을 위해, 이 데이터를 SageMaker와 공유하는 [AWS RoboMaker](https://console.aws.amazon.com/robomaker/home#welcome) 시뮬레이션 작업을 생성합니다."
   ]
  },
  {
   "cell_type": "code",
   "execution_count": 17,
   "metadata": {},
   "outputs": [
    {
     "name": "stdout",
     "output_type": "stream",
     "text": [
      "Created the following jobs:\n",
      "Job ARN arn:aws:robomaker:us-west-2:143656149352:simulation-job/sim-shtj27qgbnd8\n"
     ]
    }
   ],
   "source": [
    "num_simulation_workers = 1\n",
    "\n",
    "envriron_vars = {\n",
    "                 \"MODEL_S3_BUCKET\": s3_bucket,\n",
    "                 \"MODEL_S3_PREFIX\": s3_prefix,\n",
    "                 \"ROS_AWS_REGION\": aws_region,\n",
    "                 \"MARKOV_PRESET_FILE\": \"object_tracker.py\",\n",
    "                 \"NUMBER_OF_ROLLOUT_WORKERS\": str(num_simulation_workers)}\n",
    "\n",
    "simulation_application = {\"application\":simulation_app_arn,\n",
    "                          \"launchConfig\": {\"packageName\": \"object_tracker_simulation\",\n",
    "                                           \"launchFile\": \"distributed_training.launch\",\n",
    "                                           \"environmentVariables\": envriron_vars}\n",
    "                         }\n",
    "                            \n",
    "vpcConfig = {\"subnets\": default_subnets,\n",
    "             \"securityGroups\": default_security_groups,\n",
    "             \"assignPublicIp\": True}\n",
    "\n",
    "responses = []\n",
    "for job_no in range(num_simulation_workers):\n",
    "    response =  robomaker.create_simulation_job(iamRole=role,\n",
    "                                            clientRequestToken=strftime(\"%Y-%m-%d-%H-%M-%S\", gmtime()),\n",
    "                                            maxJobDurationInSeconds=job_duration_in_seconds,\n",
    "                                            failureBehavior=\"Continue\",\n",
    "                                            simulationApplications=[simulation_application],\n",
    "                                            vpcConfig=vpcConfig\n",
    "                                            )\n",
    "    responses.append(response)\n",
    "\n",
    "print(\"Created the following jobs:\")\n",
    "job_arns = [response[\"arn\"] for response in responses]\n",
    "for job_arn in job_arns:\n",
    "    print(\"Job ARN\", job_arn) "
   ]
  },
  {
   "cell_type": "markdown",
   "metadata": {},
   "source": [
    "### RoboMaker에서 시뮬레이션 시각화\n",
    "RoboMaker 콘솔을 방문하여 시뮬레이션을 시각화하거나 다음 셀을 실행하여 하이퍼링크를 생성할 수 있습니다."
   ]
  },
  {
   "cell_type": "code",
   "execution_count": 19,
   "metadata": {},
   "outputs": [
    {
     "data": {
      "text/markdown": [
       "> RoboMaker Console에서 시뮬레이션 작업을 시각화하려면 다음 링크를 클릭해 주세요.\n",
       "- [Simulation 1](https://us-west-2.console.aws.amazon.com/robomaker/home?region=us-west-2#simulationJobs/sim-shtj27qgbnd8)  \n",
       "\n",
       "위 링크를 연 후 Gazebo를 클릭하면 시뮬레이터를 시작할 수 있습니다."
      ],
      "text/plain": [
       "<IPython.core.display.Markdown object>"
      ]
     },
     "metadata": {},
     "output_type": "display_data"
    }
   ],
   "source": [
    "display(Markdown(generate_robomaker_links(job_arns, aws_region)))"
   ]
  },
  {
   "cell_type": "markdown",
   "metadata": {},
   "source": [
    "### 리소스 정리"
   ]
  },
  {
   "cell_type": "markdown",
   "metadata": {},
   "source": [
    "RoboMaker 및 SageMaker 작업을 종료하려면 아래 셀을 실행해 주세요. 참고로, 셀을 실행하면 실행 중에 생성된 RoboMaker 리소스도 제거합니다."
   ]
  },
  {
   "cell_type": "code",
   "execution_count": 20,
   "metadata": {},
   "outputs": [],
   "source": [
    "for job_arn in job_arns:\n",
    "    robomaker.cancel_simulation_job(job=job_arn)"
   ]
  },
  {
   "cell_type": "code",
   "execution_count": 21,
   "metadata": {},
   "outputs": [
    {
     "data": {
      "text/plain": [
       "{'ResponseMetadata': {'RequestId': '76c3fdb5-57eb-4c61-b59d-d1cdd5a169fe',\n",
       "  'HTTPStatusCode': 200,\n",
       "  'HTTPHeaders': {'x-amzn-requestid': '76c3fdb5-57eb-4c61-b59d-d1cdd5a169fe',\n",
       "   'content-type': 'application/x-amz-json-1.1',\n",
       "   'content-length': '0',\n",
       "   'date': 'Thu, 26 Mar 2020 07:45:39 GMT'},\n",
       "  'RetryAttempts': 0}}"
      ]
     },
     "execution_count": 21,
     "metadata": {},
     "output_type": "execute_result"
    }
   ],
   "source": [
    "sage_session.sagemaker_client.stop_training_job(TrainingJobName=estimator._current_job_name)"
   ]
  },
  {
   "cell_type": "markdown",
   "metadata": {},
   "source": [
    "### 평가"
   ]
  },
  {
   "cell_type": "code",
   "execution_count": 22,
   "metadata": {},
   "outputs": [
    {
     "name": "stdout",
     "output_type": "stream",
     "text": [
      "Created the following job:\n",
      "Job ARN arn:aws:robomaker:us-west-2:143656149352:simulation-job/sim-n8qs73r2vd3g\n"
     ]
    }
   ],
   "source": [
    "envriron_vars = {\"MODEL_S3_BUCKET\": s3_bucket,\n",
    "                 \"MODEL_S3_PREFIX\": s3_prefix,\n",
    "                 \"ROS_AWS_REGION\": aws_region,\n",
    "                 \"NUMBER_OF_TRIALS\": str(20),\n",
    "                 \"MARKOV_PRESET_FILE\": \"%s.py\" % RLCOACH_PRESET\n",
    "                 }\n",
    "\n",
    "simulation_application = {\"application\":simulation_app_arn,\n",
    "                          \"launchConfig\": {\"packageName\": \"object_tracker_simulation\",\n",
    "                                           \"launchFile\": \"evaluation.launch\",\n",
    "                                           \"environmentVariables\": envriron_vars}\n",
    "                         }\n",
    "                            \n",
    "vpcConfig = {\"subnets\": default_subnets,\n",
    "             \"securityGroups\": default_security_groups,\n",
    "             \"assignPublicIp\": True}\n",
    "\n",
    "\n",
    "\n",
    "response =  robomaker.create_simulation_job(iamRole=role,\n",
    "                                        clientRequestToken=strftime(\"%Y-%m-%d-%H-%M-%S\", gmtime()),\n",
    "                                        maxJobDurationInSeconds=job_duration_in_seconds,\n",
    "                                        failureBehavior=\"Continue\",\n",
    "                                        simulationApplications=[simulation_application],\n",
    "                                        vpcConfig=vpcConfig\n",
    "                                        )\n",
    "print(\"Created the following job:\")\n",
    "print(\"Job ARN\", response[\"arn\"])"
   ]
  },
  {
   "cell_type": "markdown",
   "metadata": {},
   "source": [
    "### 시뮬레이션 어플리케이션 리소스 정리"
   ]
  },
  {
   "cell_type": "code",
   "execution_count": 23,
   "metadata": {},
   "outputs": [
    {
     "data": {
      "text/plain": [
       "{'ResponseMetadata': {'RequestId': '85255faa-2c3d-456d-ab81-8de70def88ef',\n",
       "  'HTTPStatusCode': 200,\n",
       "  'HTTPHeaders': {'date': 'Thu, 26 Mar 2020 07:53:31 GMT',\n",
       "   'content-type': 'application/json',\n",
       "   'content-length': '2',\n",
       "   'connection': 'keep-alive',\n",
       "   'x-amzn-requestid': '85255faa-2c3d-456d-ab81-8de70def88ef',\n",
       "   'x-amz-apigw-id': 'J_PbUFyzvHcFaKQ=',\n",
       "   'x-amzn-trace-id': 'Root=1-5e7c5f7b-b5aa3d6a152d8f0ee4f9f2e5'},\n",
       "  'RetryAttempts': 0}}"
      ]
     },
     "execution_count": 23,
     "metadata": {},
     "output_type": "execute_result"
    }
   ],
   "source": [
    "robomaker.delete_simulation_application(application=simulation_app_arn)"
   ]
  }
 ],
 "metadata": {
  "anaconda-cloud": {},
  "kernelspec": {
   "display_name": "conda_tensorflow_p36",
   "language": "python",
   "name": "conda_tensorflow_p36"
  },
  "language_info": {
   "codemirror_mode": {
    "name": "ipython",
    "version": 3
   },
   "file_extension": ".py",
   "mimetype": "text/x-python",
   "name": "python",
   "nbconvert_exporter": "python",
   "pygments_lexer": "ipython3",
   "version": "3.6.6"
  },
  "notice": "Copyright 2018 Amazon.com, Inc. or its affiliates. All Rights Reserved. Licensed under the Apache License, Version 2.0 (the \"License\"). You may not use this file except in compliance with the License. A copy of the License is located at http://aws.amazon.com/apache2.0/ or in the \"license\" file accompanying this file. This file is distributed on an \"AS IS\" BASIS, WITHOUT WARRANTIES OR CONDITIONS OF ANY KIND, either express or implied. See the License for the specific language governing permissions and limitations under the License."
 },
 "nbformat": 4,
 "nbformat_minor": 2
}
