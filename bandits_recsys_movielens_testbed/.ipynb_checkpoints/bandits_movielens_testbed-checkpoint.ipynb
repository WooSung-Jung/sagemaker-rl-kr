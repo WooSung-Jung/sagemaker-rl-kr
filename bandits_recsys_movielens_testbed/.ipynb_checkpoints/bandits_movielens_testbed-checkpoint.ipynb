{
 "cells": [
  {
   "cell_type": "markdown",
   "metadata": {},
   "source": [
    "# Contextual Bandits with Parametric Actions - 실험 모드"
   ]
  },
  {
   "cell_type": "markdown",
   "metadata": {},
   "source": [
    "이 노트북은 Amazon SageMaker에서 contextual bandits 알고리즘으로 변동하는 행동(action) 개수에 대한 사용 예시를 보여줍니다. 이 노트북은 고정된 수의 행동들을 사용하는 [Contextual Bandits 예제 노트북](https://github.com/awslabs/amazon-sagemaker-examples/blob/master/reinforcement_learning/bandits_statlog_vw_customEnv/bandits_statlog_vw_customEnv.ipynb)을 기반으로 합니다. Contextual bandits에 대한 기본적인 내용은 해당 노트북을 참조해 주세요.\n",
    "\n",
    "Contextual bandit 설정에서 에이전트는 상태(state)가 주어진 행동을 추천합니다. 이 노트북에서는 좀 더 광범위한 실제 문제에 적용하기 위해 영화 추천 문제를 예시로 하여 세 가지의 추가 상황들을 나열해 보겠습니다.\n",
    "\n",
    "1. 에이전트가 사용할 수있는 행동 개수는 시간이 지남에 따라 변경될 수 있습니다. 예를 들어, 카탈로그의 동영상들은 시간이 지남에 따라 변경됩니다.\n",
    "2. 각 행동에는 관련 피처들이 있을 수 있습니다. 영화 추천 문제의 경우 각 영화에는 장르, 배우 등의 피처들이 있을 수 있습니다.\n",
    "3. 에이전트는 행동/아이템의 랭크드(ranked) 리스트를 생성할 수 있습니다. 영화를 추천 할 때는 한 번에 여러 영화를 추천하는 것이 당연합니다.\n",
    "\n",
    "Contextual bandit 에이전트는 exploitation와 exploration 사이의 균형을 유지하여, 사용자 선호도(user preferences)를 빠르게 배우고 좋지 않은 권장 항목들을 최소화합니다. Bandit 알고리즘은 카탈로그에 많은 콜드 항목(상호 작용 데이터가 없거나 거의 없는 항목)이 있거나 시간이 지남에 따라 사용자 기본 설정이 변경되는 경우 추천 문제에 사용하기에 적합합니다."
   ]
  },
  {
   "cell_type": "markdown",
   "metadata": {},
   "source": [
    "### 실험 모드란 무엇인가요?\n",
    "\n",
    "Contextual bandits은 종종 실제 세계와 상호 작용하여 모델을 훈련시키는 데 사용됩니다. 영화 추천에서 bandit은 과거의 상호 작용에 대한 피드백을 바탕으로 사용자 선호도를 배웁니다. Bandit 알고리즘이 실사용 사례에 적용 가능한지 테스트하기 위해, 다른 알고리즘을 테스트하고 다른 피처들과 하이퍼파라메터에 따른 변동 사항을 테스트할 수 있습니다. 하지만, 실제 사용자들로 실험하면 예기치 않은 문제 나 성능 저하로 인해 사용자의 만족도가 저하될 수 있습니다. 또한, 프로덕션 환경에서는 규모에 맞게 설계된 인프라 구성 요소(예: 웹 서비스, 데이터 엔진, 데이터베이스)로 작업하기가 복잡합니다. 이 때, 실험 모드(Experimentation Mode)를 사용하면 작은 데이터셋 또는 시뮬레이터로 시작하여 사용 사례에 가장 적합한 알고리즘, 피쳐 및 하이퍼파라미터를 식별할 수 있습니다. 실험은 훨씬 빠르며 실제 사용자에게 영향을 미치지 않으며 작업하기도 쉽습니다. 알고리즘 성능이 만족스러우면 [배치 모드](https://github.com/awslabs/amazon-sagemaker-examples/blob/master/reinforcement_learning/bandits_statlog_vw_customEnv/bandits_statlog_vw_customEnv.ipynb)로 전환하여 프로덕션 요구 사항에 맞게 인프라 지원을 제공할 수 있습니다."
   ]
  },
  {
   "cell_type": "markdown",
   "metadata": {},
   "source": [
    "<p align=\"center\">\n",
    "    <img src=\"workflow.png\">\n",
    "</p>"
   ]
  },
  {
   "cell_type": "markdown",
   "metadata": {},
   "source": [
    "## 전제 조건(Pre-requisites)\n",
    "\n",
    "### 라이브러리 임포트\n",
    "\n",
    "시작하기 위해, 필요한 Python 라이브러리를 가져와서 권한 및 구성을 위한 몇 가지 전제 조건으로 환경을 설정합니다."
   ]
  },
  {
   "cell_type": "code",
   "execution_count": 1,
   "metadata": {},
   "outputs": [],
   "source": [
    "import sagemaker\n",
    "import boto3\n",
    "import sys\n",
    "import os\n",
    "import json\n",
    "import glob\n",
    "import re\n",
    "import numpy as np\n",
    "import pandas as pd\n",
    "import matplotlib.pyplot as plt\n",
    "from IPython.display import HTML\n",
    "import time\n",
    "from time import gmtime, strftime\n",
    "from misc import get_execution_role, wait_for_s3_object\n",
    "from sagemaker.rl import RLEstimator\n",
    "%matplotlib inline"
   ]
  },
  {
   "cell_type": "markdown",
   "metadata": {},
   "source": [
    "### S3 버킷 설정\n",
    "\n",
    "데이터 및 모델 출력에 사용하려는 S3 버킷에 대한 연결 및 인증을 설정합니다."
   ]
  },
  {
   "cell_type": "code",
   "execution_count": 2,
   "metadata": {},
   "outputs": [
    {
     "name": "stdout",
     "output_type": "stream",
     "text": [
      "S3 bucket path: s3://sagemaker-us-west-2-143656149352/\n"
     ]
    }
   ],
   "source": [
    "sage_session = sagemaker.session.Session()\n",
    "s3_bucket = sage_session.default_bucket()  \n",
    "s3_output_path = 's3://{}/'.format(s3_bucket)\n",
    "print(\"S3 bucket path: {}\".format(s3_output_path))"
   ]
  },
  {
   "cell_type": "code",
   "execution_count": 3,
   "metadata": {},
   "outputs": [],
   "source": [
    "# Check AWS Region\n",
    "aws_region = sage_session.boto_region_name\n",
    "if aws_region not in [\"us-west-2\"]:\n",
    "    raise Exception(\n",
    "    \"\"\"\n",
    "    This notebook can currently run only in us-west-2. Support for other regions\n",
    "    will be added soon.\n",
    "    \"\"\")            "
   ]
  },
  {
   "cell_type": "markdown",
   "metadata": {},
   "source": [
    "### 훈련이 진행되는 위치 구성\n",
    "\n",
    "이 노트북을 `SageMaker 노트북 인스턴스` 또는 여러분의 컴퓨터에서 실행할 수 있습니다. 이 두 시나리오 모두 로컬 또는 SageMaker 모드에서 훈련/추론을 수행 할 수 있습니다. 로컬 모드는 SageMaker Python SDK를 사용하여 코드를 도커(docker) 컨테이너에서 로컬로 실행합니다. 이렇게 하면 익숙한 Python SDK 인터페이스를 사용하면서 반복 테스트 및 디버깅 속도를 높일 수 있습니다. 간단히 `local_mode = True` 만 설정하면 됩니다.\n",
    "\n",
    "로컬 모드가 `False`이면, SageMaker 시스템에서 훈련/추론이 실행됩니다."
   ]
  },
  {
   "cell_type": "code",
   "execution_count": 4,
   "metadata": {},
   "outputs": [],
   "source": [
    "# run in local mode?\n",
    "local_mode = True\n",
    "\n",
    "if local_mode:\n",
    "    instance_type = 'local'\n",
    "else:\n",
    "    instance_type = \"ml.c5.2xlarge\""
   ]
  },
  {
   "cell_type": "markdown",
   "metadata": {},
   "source": [
    "### IAM 역할 생성\n",
    "\n",
    "SageMaker 노트북 role = sagemaker.get_execution_role()을 실행할 때 실행 역할(execution role)을 얻거나 로컬 시스템에서 실행할 때 utils 메소드 role = get_execution_role()을 사용하여 실행 역할을 작성하세요."
   ]
  },
  {
   "cell_type": "code",
   "execution_count": 5,
   "metadata": {},
   "outputs": [
    {
     "name": "stdout",
     "output_type": "stream",
     "text": [
      "Using IAM role arn: arn:aws:iam::143656149352:role/service-role/AmazonSageMaker-ExecutionRole-20200323T143836\n"
     ]
    }
   ],
   "source": [
    "try:\n",
    "    role = sagemaker.get_execution_role()\n",
    "except:\n",
    "    role = get_execution_role()\n",
    "\n",
    "print(\"Using IAM role arn: {}\".format(role))"
   ]
  },
  {
   "cell_type": "markdown",
   "metadata": {},
   "source": [
    "### 시뮬레이션 환경 (MovieLens 데이터)\n",
    "\n",
    "\n",
    "시뮬레이션 환경 `src/env.py`는 SageMaker bandit 훈련과 상호 작용하여 추천 에이전트(또는 정책)를 생성할 수 있는 실제 환경을 시뮬레이션합니다. 보상 생성의 논리는 시뮬레이터 자체에 있습니다. 우리는 훈련 작업 자체 내에서 이 환경을 사용하여 피드백으로 온라인 학습 루프를 시뮬레이션합니다. 시뮬레이터는 MovieLens 100k 데이터셋을 사용합니다.\n",
    "\n",
    "훈련 워크플로우는 아래와 같습니다.\n",
    "\n",
    "- **사용자 샘플링 및 후보 목록 생성**: 시뮬레이터는 임의로 사용자 `u`와 100개의 항목 목록(`item_pool_size`로 정의됨)을 선택하여 추천 검색을 위해 SageMaker 에이전트로 전송됩니다. 이 목록은 과거에 사용자 `u`가 평가한 영화로 구성되어 있고, 각 영화에 대한 실제 사용자 기본 설정(등급)을 알고 있습니다. 이 시뮬레이터에서는 `user_id`를 사용하여 사용자를 식별하고 영화 장르 피처를 사용하여 각 영화를 나타냅니다.\n",
    "- **Bandit Slate  추천**: SageMaker bandit 에이전트는 추천(top-k 항목들의 목록) 결과를 반환합니다.\n",
    "- **사용자 행동을 시뮬레이션하여 피드백 생성**: 보상은 데이터셋의 사용자 등급에 따라 에이전트에게 제공됩니다. 사용자가 목록을 위에서 아래로 스캔하고 원하는 항목을 클릭하는 캐스케이드 클릭(Cascade Click) 모델을 가정합니다. 클릭한 항목 위의 모든 항목에 대해 0의 보상을, 클릭한 항목에 대해 1의 보상을 제공합니다. 클릭 한 항목 아래의 항목에 대해서는 피드백이 생성되지 않습니다.\n",
    "- **피드백 처리**: 해당 보상 및 행동이 학습을 위해 에이전트에게 보고됩니다."
   ]
  },
  {
   "cell_type": "markdown",
   "metadata": {},
   "source": [
    "훈련 작업은 `src` 폴더의 파일을 사용합니다. 중요한 파일에 대한 설명은 다음과 같습니다.\n",
    "\n",
    "- `src/train.py` - 훈련 작업의 엔트리 포인트입니다. 이 파일에는 훈련을 위한 주요 로직이 포함되어 있습니다.\n",
    "    - Bandit 에이전트를 초기화합니다.\n",
    "    - 에이전트가 환경과 상호 작용하고 일부 행동을 권장하며, 피드백을 수집하고, 시간이 지남에 따라 개선되는 상호 작용 루프를 시작합니다.\n",
    "    - 에이전트는 훈련이 완료된 후 S3에 저장되며 추론을 위해 나중에 사용할 수 있습니다.\n",
    "- `src/env.py` - 이 파일은 MovieLens 100K 데이터셋을 사용하여 시뮬레이션 환경을 구현합니다. 캐스케이드 클릭 모델을 사용한 보상 생성 로직도 포함되어 있습니다.\n",
    "- `src/vw_agent.py` - 백엔드에서 VW C++ 프로세스와 통신하는 bandit 에이전트 인터페이스를 파이썬으로 구현합니다."
   ]
  },
  {
   "cell_type": "markdown",
   "metadata": {},
   "source": [
    "####  MovieLens 100K 사용 라이센스\n",
    "\n",
    "[데이터셋 설명 페이지](http://files.grouplens.org/datasets/movielens/ml-100k-README.txt)에서 인용된 승인, 저작권 및 가용성에 관한 다음 요구 사항에 유의하십시오.\n",
    "\n",
    "데이터셋은 다음 조건들 하에서 모든 연구 목적으로 사용될 수 있습니다.\n",
    "\n",
    " * 사용자는 미네소타 대학교(University of Minnesota) 또는 GroupLens Research Group의 보증을 진술하거나 암시해서는 안됩니다.\n",
    " * 사용자는 데이터셋 사용 시, 논문에서 데이터셋 사용을 인정해야 합니다 (인용 정보는 아래 참조).\n",
    " * 사용자는 별도의 허가 없이 데이터를 재배포할 수 없습니다.\n",
    " * 사용자는 미네소타 대학교에 있는 GroupLens 연구 프로젝트의 교수진의 허가를 받지 않고는 상업적 또는 수입을 목적으로 이 정보를 사용할 수 없습니다.\n",
    "\n",
    "추가 질문이나 의견이 있으시면 GroupLens (grouplens-info@cs.umn.edu)에 문의하십시오."
   ]
  },
  {
   "cell_type": "markdown",
   "metadata": {},
   "source": [
    "#### MovieLens 100K 다운로드 및 S3 업로드"
   ]
  },
  {
   "cell_type": "code",
   "execution_count": 6,
   "metadata": {},
   "outputs": [
    {
     "name": "stdout",
     "output_type": "stream",
     "text": [
      "Archive:  ml-100k.zip\n"
     ]
    },
    {
     "name": "stderr",
     "output_type": "stream",
     "text": [
      "  % Total    % Received % Xferd  Average Speed   Time    Time     Time  Current\n",
      "                                 Dload  Upload   Total   Spent    Left  Speed\n",
      "\r",
      "  0     0    0     0    0     0      0      0 --:--:-- --:--:-- --:--:--     0\r",
      " 47 4808k   47 2291k    0     0  3109k      0  0:00:01 --:--:--  0:00:01 3105k\r",
      "100 4808k  100 4808k    0     0  3020k      0  0:00:01  0:00:01 --:--:-- 3022k\n",
      "replace ml-100k/allbut.pl? [y]es, [n]o, [A]ll, [N]one, [r]ename:  NULL\n",
      "(EOF or read error, treating as \"[N]one\" ...)\n"
     ]
    }
   ],
   "source": [
    "%%bash\n",
    "curl -o ml-100k.zip http://files.grouplens.org/datasets/movielens/ml-100k.zip\n",
    "unzip ml-100k.zip"
   ]
  },
  {
   "cell_type": "code",
   "execution_count": 7,
   "metadata": {},
   "outputs": [],
   "source": [
    "movielens_data_s3_path = sage_session.upload_data(path=\"ml-100k\", bucket=s3_bucket, key_prefix=\"movielens/data\")"
   ]
  },
  {
   "cell_type": "markdown",
   "metadata": {},
   "source": [
    "## Python SDK 스크립트 모드를 사용하여 Bandit 모델 훈련\n",
    "\n",
    "로컬 모드를 사용하는 경우 노트북 인스턴스/로컬 컴퓨터에서 교육이 실행됩니다. 훈련을 위해 SageMaker를 사용할 때 CPU 인스턴스를 선택할 수 있습니다. RLEstimator는 bandit 에이전트 훈련에 사용됩니다.\n",
    "\n",
    "1. Bandit 알고리즘 및 환경 구성에 대한 하이퍼파라미터를 지정하세요.\n",
    "2. 환경, 훈련 코드 및 의존성 패키지들이 있는 소스 디렉토리를 지정하세요. - `src` 폴더\n",
    "3. 훈련 엔트리 포인트를 지정하세요. - `train.py`\n",
    "4. 컨테이너 이미지를 지정하세요.\n",
    "5. 인스턴스 수, 작업 이름, 출력에 대한 S3 경로 및 작업 이름과 같은 훈련 파라메터를 정의하세요.\n",
    "6. `.fit` 호출에서 입력 데이터셋 경로(`movielens_data_s3_path`)를 지정하세요."
   ]
  },
  {
   "cell_type": "markdown",
   "metadata": {},
   "source": [
    "#### 하이퍼파라미터 및 훈련 작업 이름 접두사(prefix) 정의"
   ]
  },
  {
   "cell_type": "code",
   "execution_count": 8,
   "metadata": {},
   "outputs": [],
   "source": [
    "hyperparameters = {\n",
    "                   # Algorithm params\n",
    "                   \"arm_features\": True,\n",
    "                   \"exploration_policy\": \"regcbopt\",\n",
    "                   \"mellowness\": 0.01,\n",
    "                   \n",
    "                   # Env params\n",
    "                   \"item_pool_size\": 100,\n",
    "                   \"top_k\": 5,\n",
    "                   \"total_interactions\": 2000,\n",
    "                   \"max_users\": 100,\n",
    "                   }\n",
    "\n",
    "job_name_prefix = \"testbed-bandits-1\""
   ]
  },
  {
   "cell_type": "code",
   "execution_count": 9,
   "metadata": {},
   "outputs": [],
   "source": [
    "vw_image_uri = \"462105765813.dkr.ecr.us-west-2.amazonaws.com/sagemaker-rl-vw-container:adf\""
   ]
  },
  {
   "cell_type": "code",
   "execution_count": 10,
   "metadata": {},
   "outputs": [
    {
     "name": "stdout",
     "output_type": "stream",
     "text": [
      "Creating tmp3t180if8_algo-1-mc0ld_1 ... \n",
      "\u001b[1BAttaching to tmp3t180if8_algo-1-mc0ld_12mdone\u001b[0m\n",
      "\u001b[36malgo-1-mc0ld_1  |\u001b[0m 2020-03-26 03:11:42,908 sagemaker-containers INFO     No GPUs detected (normal if no gpus installed)\n",
      "\u001b[36malgo-1-mc0ld_1  |\u001b[0m 2020-03-26 03:11:42,925 sagemaker-containers INFO     No GPUs detected (normal if no gpus installed)\n",
      "\u001b[36malgo-1-mc0ld_1  |\u001b[0m 2020-03-26 03:11:42,941 sagemaker-containers INFO     No GPUs detected (normal if no gpus installed)\n",
      "\u001b[36malgo-1-mc0ld_1  |\u001b[0m 2020-03-26 03:11:42,956 sagemaker-containers INFO     Invoking user script\n",
      "\u001b[36malgo-1-mc0ld_1  |\u001b[0m \n",
      "\u001b[36malgo-1-mc0ld_1  |\u001b[0m Training Env:\n",
      "\u001b[36malgo-1-mc0ld_1  |\u001b[0m \n",
      "\u001b[36malgo-1-mc0ld_1  |\u001b[0m {\n",
      "\u001b[36malgo-1-mc0ld_1  |\u001b[0m     \"additional_framework_parameters\": {\n",
      "\u001b[36malgo-1-mc0ld_1  |\u001b[0m         \"sagemaker_estimator\": \"RLEstimator\"\n",
      "\u001b[36malgo-1-mc0ld_1  |\u001b[0m     },\n",
      "\u001b[36malgo-1-mc0ld_1  |\u001b[0m     \"channel_input_dirs\": {\n",
      "\u001b[36malgo-1-mc0ld_1  |\u001b[0m         \"movielens\": \"/opt/ml/input/data/movielens\"\n",
      "\u001b[36malgo-1-mc0ld_1  |\u001b[0m     },\n",
      "\u001b[36malgo-1-mc0ld_1  |\u001b[0m     \"current_host\": \"algo-1-mc0ld\",\n",
      "\u001b[36malgo-1-mc0ld_1  |\u001b[0m     \"framework_module\": null,\n",
      "\u001b[36malgo-1-mc0ld_1  |\u001b[0m     \"hosts\": [\n",
      "\u001b[36malgo-1-mc0ld_1  |\u001b[0m         \"algo-1-mc0ld\"\n",
      "\u001b[36malgo-1-mc0ld_1  |\u001b[0m     ],\n",
      "\u001b[36malgo-1-mc0ld_1  |\u001b[0m     \"hyperparameters\": {\n",
      "\u001b[36malgo-1-mc0ld_1  |\u001b[0m         \"arm_features\": true,\n",
      "\u001b[36malgo-1-mc0ld_1  |\u001b[0m         \"exploration_policy\": \"regcbopt\",\n",
      "\u001b[36malgo-1-mc0ld_1  |\u001b[0m         \"mellowness\": 0.01,\n",
      "\u001b[36malgo-1-mc0ld_1  |\u001b[0m         \"item_pool_size\": 100,\n",
      "\u001b[36malgo-1-mc0ld_1  |\u001b[0m         \"top_k\": 5,\n",
      "\u001b[36malgo-1-mc0ld_1  |\u001b[0m         \"total_interactions\": 2000,\n",
      "\u001b[36malgo-1-mc0ld_1  |\u001b[0m         \"max_users\": 100\n",
      "\u001b[36malgo-1-mc0ld_1  |\u001b[0m     },\n",
      "\u001b[36malgo-1-mc0ld_1  |\u001b[0m     \"input_config_dir\": \"/opt/ml/input/config\",\n",
      "\u001b[36malgo-1-mc0ld_1  |\u001b[0m     \"input_data_config\": {\n",
      "\u001b[36malgo-1-mc0ld_1  |\u001b[0m         \"movielens\": {\n",
      "\u001b[36malgo-1-mc0ld_1  |\u001b[0m             \"TrainingInputMode\": \"File\"\n",
      "\u001b[36malgo-1-mc0ld_1  |\u001b[0m         }\n",
      "\u001b[36malgo-1-mc0ld_1  |\u001b[0m     },\n",
      "\u001b[36malgo-1-mc0ld_1  |\u001b[0m     \"input_dir\": \"/opt/ml/input\",\n",
      "\u001b[36malgo-1-mc0ld_1  |\u001b[0m     \"is_master\": true,\n",
      "\u001b[36malgo-1-mc0ld_1  |\u001b[0m     \"job_name\": \"testbed-bandits-1-2020-03-26-03-10-56-919\",\n",
      "\u001b[36malgo-1-mc0ld_1  |\u001b[0m     \"log_level\": 20,\n",
      "\u001b[36malgo-1-mc0ld_1  |\u001b[0m     \"master_hostname\": \"algo-1-mc0ld\",\n",
      "\u001b[36malgo-1-mc0ld_1  |\u001b[0m     \"model_dir\": \"/opt/ml/model\",\n",
      "\u001b[36malgo-1-mc0ld_1  |\u001b[0m     \"module_dir\": \"s3://sagemaker-us-west-2-143656149352/testbed-bandits-1-2020-03-26-03-10-56-919/source/sourcedir.tar.gz\",\n",
      "\u001b[36malgo-1-mc0ld_1  |\u001b[0m     \"module_name\": \"train\",\n",
      "\u001b[36malgo-1-mc0ld_1  |\u001b[0m     \"network_interface_name\": \"eth0\",\n",
      "\u001b[36malgo-1-mc0ld_1  |\u001b[0m     \"num_cpus\": 4,\n",
      "\u001b[36malgo-1-mc0ld_1  |\u001b[0m     \"num_gpus\": 0,\n",
      "\u001b[36malgo-1-mc0ld_1  |\u001b[0m     \"output_data_dir\": \"/opt/ml/output/data\",\n",
      "\u001b[36malgo-1-mc0ld_1  |\u001b[0m     \"output_dir\": \"/opt/ml/output\",\n",
      "\u001b[36malgo-1-mc0ld_1  |\u001b[0m     \"output_intermediate_dir\": \"/opt/ml/output/intermediate\",\n",
      "\u001b[36malgo-1-mc0ld_1  |\u001b[0m     \"resource_config\": {\n",
      "\u001b[36malgo-1-mc0ld_1  |\u001b[0m         \"current_host\": \"algo-1-mc0ld\",\n",
      "\u001b[36malgo-1-mc0ld_1  |\u001b[0m         \"hosts\": [\n",
      "\u001b[36malgo-1-mc0ld_1  |\u001b[0m             \"algo-1-mc0ld\"\n",
      "\u001b[36malgo-1-mc0ld_1  |\u001b[0m         ]\n",
      "\u001b[36malgo-1-mc0ld_1  |\u001b[0m     },\n",
      "\u001b[36malgo-1-mc0ld_1  |\u001b[0m     \"user_entry_point\": \"train.py\"\n",
      "\u001b[36malgo-1-mc0ld_1  |\u001b[0m }\n",
      "\u001b[36malgo-1-mc0ld_1  |\u001b[0m \n",
      "\u001b[36malgo-1-mc0ld_1  |\u001b[0m Environment variables:\n",
      "\u001b[36malgo-1-mc0ld_1  |\u001b[0m \n",
      "\u001b[36malgo-1-mc0ld_1  |\u001b[0m SM_HOSTS=[\"algo-1-mc0ld\"]\n",
      "\u001b[36malgo-1-mc0ld_1  |\u001b[0m SM_NETWORK_INTERFACE_NAME=eth0\n",
      "\u001b[36malgo-1-mc0ld_1  |\u001b[0m SM_HPS={\"arm_features\":true,\"exploration_policy\":\"regcbopt\",\"item_pool_size\":100,\"max_users\":100,\"mellowness\":0.01,\"top_k\":5,\"total_interactions\":2000}\n",
      "\u001b[36malgo-1-mc0ld_1  |\u001b[0m SM_USER_ENTRY_POINT=train.py\n",
      "\u001b[36malgo-1-mc0ld_1  |\u001b[0m SM_FRAMEWORK_PARAMS={\"sagemaker_estimator\":\"RLEstimator\"}\n",
      "\u001b[36malgo-1-mc0ld_1  |\u001b[0m SM_RESOURCE_CONFIG={\"current_host\":\"algo-1-mc0ld\",\"hosts\":[\"algo-1-mc0ld\"]}\n",
      "\u001b[36malgo-1-mc0ld_1  |\u001b[0m SM_INPUT_DATA_CONFIG={\"movielens\":{\"TrainingInputMode\":\"File\"}}\n",
      "\u001b[36malgo-1-mc0ld_1  |\u001b[0m SM_OUTPUT_DATA_DIR=/opt/ml/output/data\n",
      "\u001b[36malgo-1-mc0ld_1  |\u001b[0m SM_CHANNELS=[\"movielens\"]\n",
      "\u001b[36malgo-1-mc0ld_1  |\u001b[0m SM_CURRENT_HOST=algo-1-mc0ld\n",
      "\u001b[36malgo-1-mc0ld_1  |\u001b[0m SM_MODULE_NAME=train\n",
      "\u001b[36malgo-1-mc0ld_1  |\u001b[0m SM_LOG_LEVEL=20\n",
      "\u001b[36malgo-1-mc0ld_1  |\u001b[0m SM_FRAMEWORK_MODULE=\n",
      "\u001b[36malgo-1-mc0ld_1  |\u001b[0m SM_INPUT_DIR=/opt/ml/input\n",
      "\u001b[36malgo-1-mc0ld_1  |\u001b[0m SM_INPUT_CONFIG_DIR=/opt/ml/input/config\n",
      "\u001b[36malgo-1-mc0ld_1  |\u001b[0m SM_OUTPUT_DIR=/opt/ml/output\n",
      "\u001b[36malgo-1-mc0ld_1  |\u001b[0m SM_NUM_CPUS=4\n",
      "\u001b[36malgo-1-mc0ld_1  |\u001b[0m SM_NUM_GPUS=0\n",
      "\u001b[36malgo-1-mc0ld_1  |\u001b[0m SM_MODEL_DIR=/opt/ml/model\n",
      "\u001b[36malgo-1-mc0ld_1  |\u001b[0m SM_MODULE_DIR=s3://sagemaker-us-west-2-143656149352/testbed-bandits-1-2020-03-26-03-10-56-919/source/sourcedir.tar.gz\n",
      "\u001b[36malgo-1-mc0ld_1  |\u001b[0m SM_TRAINING_ENV={\"additional_framework_parameters\":{\"sagemaker_estimator\":\"RLEstimator\"},\"channel_input_dirs\":{\"movielens\":\"/opt/ml/input/data/movielens\"},\"current_host\":\"algo-1-mc0ld\",\"framework_module\":null,\"hosts\":[\"algo-1-mc0ld\"],\"hyperparameters\":{\"arm_features\":true,\"exploration_policy\":\"regcbopt\",\"item_pool_size\":100,\"max_users\":100,\"mellowness\":0.01,\"top_k\":5,\"total_interactions\":2000},\"input_config_dir\":\"/opt/ml/input/config\",\"input_data_config\":{\"movielens\":{\"TrainingInputMode\":\"File\"}},\"input_dir\":\"/opt/ml/input\",\"is_master\":true,\"job_name\":\"testbed-bandits-1-2020-03-26-03-10-56-919\",\"log_level\":20,\"master_hostname\":\"algo-1-mc0ld\",\"model_dir\":\"/opt/ml/model\",\"module_dir\":\"s3://sagemaker-us-west-2-143656149352/testbed-bandits-1-2020-03-26-03-10-56-919/source/sourcedir.tar.gz\",\"module_name\":\"train\",\"network_interface_name\":\"eth0\",\"num_cpus\":4,\"num_gpus\":0,\"output_data_dir\":\"/opt/ml/output/data\",\"output_dir\":\"/opt/ml/output\",\"output_intermediate_dir\":\"/opt/ml/output/intermediate\",\"resource_config\":{\"current_host\":\"algo-1-mc0ld\",\"hosts\":[\"algo-1-mc0ld\"]},\"user_entry_point\":\"train.py\"}\n",
      "\u001b[36malgo-1-mc0ld_1  |\u001b[0m SM_USER_ARGS=[\"--arm_features\",\"True\",\"--exploration_policy\",\"regcbopt\",\"--item_pool_size\",\"100\",\"--max_users\",\"100\",\"--mellowness\",\"0.01\",\"--top_k\",\"5\",\"--total_interactions\",\"2000\"]\n",
      "\u001b[36malgo-1-mc0ld_1  |\u001b[0m SM_OUTPUT_INTERMEDIATE_DIR=/opt/ml/output/intermediate\n",
      "\u001b[36malgo-1-mc0ld_1  |\u001b[0m SM_CHANNEL_MOVIELENS=/opt/ml/input/data/movielens\n",
      "\u001b[36malgo-1-mc0ld_1  |\u001b[0m SM_HP_ARM_FEATURES=true\n",
      "\u001b[36malgo-1-mc0ld_1  |\u001b[0m SM_HP_EXPLORATION_POLICY=regcbopt\n",
      "\u001b[36malgo-1-mc0ld_1  |\u001b[0m SM_HP_MELLOWNESS=0.01\n",
      "\u001b[36malgo-1-mc0ld_1  |\u001b[0m SM_HP_ITEM_POOL_SIZE=100\n",
      "\u001b[36malgo-1-mc0ld_1  |\u001b[0m SM_HP_TOP_K=5\n",
      "\u001b[36malgo-1-mc0ld_1  |\u001b[0m SM_HP_TOTAL_INTERACTIONS=2000\n",
      "\u001b[36malgo-1-mc0ld_1  |\u001b[0m SM_HP_MAX_USERS=100\n",
      "\u001b[36malgo-1-mc0ld_1  |\u001b[0m PYTHONPATH=/opt/ml/code:/usr/local/bin:/vowpal_wabbit/python:/vowpal_wabbit/build/python:/usr/lib/python36.zip:/usr/lib/python3.6:/usr/lib/python3.6/lib-dynload:/usr/local/lib/python3.6/dist-packages:/usr/lib/python3/dist-packages\n",
      "\u001b[36malgo-1-mc0ld_1  |\u001b[0m \n",
      "\u001b[36malgo-1-mc0ld_1  |\u001b[0m Invoking script with the following command:\n",
      "\u001b[36malgo-1-mc0ld_1  |\u001b[0m \n",
      "\u001b[36malgo-1-mc0ld_1  |\u001b[0m /usr/bin/python train.py --arm_features True --exploration_policy regcbopt --item_pool_size 100 --max_users 100 --mellowness 0.01 --top_k 5 --total_interactions 2000\n",
      "\u001b[36malgo-1-mc0ld_1  |\u001b[0m \n",
      "\u001b[36malgo-1-mc0ld_1  |\u001b[0m \n",
      "\u001b[36malgo-1-mc0ld_1  |\u001b[0m INFO:root:channels ['movielens']\n",
      "\u001b[36malgo-1-mc0ld_1  |\u001b[0m INFO:root:hps: {'arm_features': True, 'exploration_policy': 'regcbopt', 'item_pool_size': 100, 'max_users': 100, 'mellowness': 0.01, 'top_k': 5, 'total_interactions': 2000}\n",
      "\u001b[36malgo-1-mc0ld_1  |\u001b[0m INFO:root:No pre-trained model has been specified in channel pretrained_model.Training will start from scratch.\n",
      "\u001b[36malgo-1-mc0ld_1  |\u001b[0m INFO:vw_model.VWModel:creating an instance of VWModel\n",
      "\u001b[36malgo-1-mc0ld_1  |\u001b[0m INFO:vw_model.VWModel:successfully created VWModel\n",
      "\u001b[36malgo-1-mc0ld_1  |\u001b[0m INFO:vw_model.VWModel:command: ['vw', '--cb_explore_adf', '--cb_type', 'mtr', '--regcbopt', '--mellowness', '0.01', '-p', '/dev/stdout', '-q', 'sd', '-f', '/opt/ml/model/vw.model', '--save_resume']\n",
      "\u001b[36malgo-1-mc0ld_1  |\u001b[0m INFO:vw_model.VWModel:Started VW process!\n"
     ]
    },
    {
     "name": "stdout",
     "output_type": "stream",
     "text": [
      "\u001b[36malgo-1-mc0ld_1  |\u001b[0m INFO:root:Processed 0 interactions\n",
      "\u001b[36malgo-1-mc0ld_1  |\u001b[0m INFO:root:Processed 500 interactions\n",
      "\u001b[36malgo-1-mc0ld_1  |\u001b[0m INFO:root:Processed 1000 interactions\n",
      "\u001b[36malgo-1-mc0ld_1  |\u001b[0m INFO:root:Processed 1500 interactions\n",
      "\u001b[36malgo-1-mc0ld_1  |\u001b[0m creating quadratic features for pairs: sd \n",
      "\u001b[36malgo-1-mc0ld_1  |\u001b[0m final_regressor = /opt/ml/model/vw.model\n",
      "\u001b[36malgo-1-mc0ld_1  |\u001b[0m predictions = /dev/stdout\n",
      "\u001b[36malgo-1-mc0ld_1  |\u001b[0m Num weight bits = 18\n",
      "\u001b[36malgo-1-mc0ld_1  |\u001b[0m learning rate = 0.5\n",
      "\u001b[36malgo-1-mc0ld_1  |\u001b[0m initial_t = 0\n",
      "\u001b[36malgo-1-mc0ld_1  |\u001b[0m power_t = 0.5\n",
      "\u001b[36malgo-1-mc0ld_1  |\u001b[0m using no cache\n",
      "\u001b[36malgo-1-mc0ld_1  |\u001b[0m Reading datafile = \n",
      "\u001b[36malgo-1-mc0ld_1  |\u001b[0m num sources = 1\n",
      "\u001b[36malgo-1-mc0ld_1  |\u001b[0m average  since         example        example  current  current  current\n",
      "\u001b[36malgo-1-mc0ld_1  |\u001b[0m loss     last          counter         weight    label  predict features\n",
      "\u001b[36malgo-1-mc0ld_1  |\u001b[0m     n.a.     n.a.            1            1.0  unknown        0:1...      312\n",
      "\u001b[36malgo-1-mc0ld_1  |\u001b[0m     n.a.     n.a.            2            2.0  unknown        0:1...      310\n",
      "\u001b[36malgo-1-mc0ld_1  |\u001b[0m     n.a.     n.a.            4            4.0  unknown        0:1...      302\n",
      "\u001b[36malgo-1-mc0ld_1  |\u001b[0m 0.000000 0.000000            8            8.0  unknown        2:1...      182\n",
      "\u001b[36malgo-1-mc0ld_1  |\u001b[0m 0.003538 0.004422           16           16.0  unknown       27:1...      176\n",
      "\u001b[36malgo-1-mc0ld_1  |\u001b[0m 0.187922 0.648883           32           32.0  unknown       16:1...      303\n",
      "\u001b[36malgo-1-mc0ld_1  |\u001b[0m 0.439621 0.733269           64           64.0  unknown       28:1...      301\n",
      "\u001b[36malgo-1-mc0ld_1  |\u001b[0m 0.281336 0.178452          128          128.0    known        0:-0.484687...        3\n",
      "\u001b[36malgo-1-mc0ld_1  |\u001b[0m 0.332952 0.391687          256          256.0  unknown        9:1...       59\n",
      "\u001b[36malgo-1-mc0ld_1  |\u001b[0m 0.338375 0.343548          512          512.0    known        0:-0.224589...        3\n",
      "\u001b[36malgo-1-mc0ld_1  |\u001b[0m 0.436328 0.551513         1024         1024.0  unknown        0:1...      297\n",
      "\u001b[36malgo-1-mc0ld_1  |\u001b[0m 0.497166 0.563356         2048         2048.0  unknown       21:1...      165\n",
      "\u001b[36malgo-1-mc0ld_1  |\u001b[0m 0.544091 0.593079         4096         4096.0  unknown       29:1...      331\n",
      "\u001b[36malgo-1-mc0ld_1  |\u001b[0m 0.628147 0.721273         8192         8192.0  unknown       27:1...      173\n",
      "\u001b[36malgo-1-mc0ld_1  |\u001b[0m \n",
      "\u001b[36malgo-1-mc0ld_1  |\u001b[0m finished run\n",
      "\u001b[36malgo-1-mc0ld_1  |\u001b[0m number of examples = 12517\n",
      "\u001b[36malgo-1-mc0ld_1  |\u001b[0m weighted example sum = 12517.000000\n",
      "\u001b[36malgo-1-mc0ld_1  |\u001b[0m weighted label sum = 0.000000\n",
      "\u001b[36malgo-1-mc0ld_1  |\u001b[0m average loss = 0.664852\n",
      "\u001b[36malgo-1-mc0ld_1  |\u001b[0m total feature number = 2049012\n",
      "\u001b[36malgo-1-mc0ld_1  |\u001b[0m \n",
      "\u001b[36malgo-1-mc0ld_1  |\u001b[0m INFO:root:Model learned using 2000 training experiences.\n",
      "\u001b[36malgo-1-mc0ld_1  |\u001b[0m 2020-03-26 03:11:51,857 sagemaker-containers INFO     Reporting training SUCCESS\n",
      "\u001b[36mtmp3t180if8_algo-1-mc0ld_1 exited with code 0\n",
      "\u001b[0mAborting on container exit...\n"
     ]
    },
    {
     "name": "stderr",
     "output_type": "stream",
     "text": [
      "Failed to delete: /tmp/tmp3t180if8/algo-1-mc0ld Please remove it manually.\n"
     ]
    },
    {
     "name": "stdout",
     "output_type": "stream",
     "text": [
      "===== Job Complete =====\n"
     ]
    }
   ],
   "source": [
    "estimator = RLEstimator(entry_point=\"train.py\",\n",
    "                        source_dir='src',\n",
    "                        image_name=vw_image_uri,\n",
    "                        role=role,\n",
    "                        train_instance_type=instance_type,\n",
    "                        train_instance_count=1,\n",
    "                        output_path=s3_output_path,\n",
    "                        base_job_name=job_name_prefix,\n",
    "                        hyperparameters = hyperparameters\n",
    "                    )\n",
    "\n",
    "estimator.fit(inputs={\"movielens\": movielens_data_s3_path}, wait=True)"
   ]
  },
  {
   "cell_type": "markdown",
   "metadata": {},
   "source": [
    "#### 퍼포먼스 plotting을 위한 훈련 결과 다운로드"
   ]
  },
  {
   "cell_type": "markdown",
   "metadata": {},
   "source": [
    "훈련이 완료되면 regret 데이터를 다운로드하여 bandit 에이전트의 퍼포먼스를 plot할 수 있습니다."
   ]
  },
  {
   "cell_type": "code",
   "execution_count": 11,
   "metadata": {},
   "outputs": [],
   "source": [
    "job_name = estimator.latest_training_job.job_name"
   ]
  },
  {
   "cell_type": "markdown",
   "metadata": {},
   "source": [
    "SageMaker는 모델을 `model.tar.gz`에 저장하고 다른 작업 출력을 `output.tar.gz`에 저장합니다"
   ]
  },
  {
   "cell_type": "code",
   "execution_count": 12,
   "metadata": {},
   "outputs": [],
   "source": [
    "if local_mode:\n",
    "    output_path_prefix = f\"{job_name}/output.tar.gz\"\n",
    "    model_path = f\"{job_name}/model.tar.gz\"\n",
    "    \n",
    "else:\n",
    "    output_path_prefix = f\"{job_name}/output/output.tar.gz\"\n",
    "    model_path = f\"{job_name}/output/model.tar.gz\"\n",
    "    \n",
    "sage_session.download_data(path=\"./output\", bucket=s3_bucket, key_prefix=output_path_prefix)"
   ]
  },
  {
   "cell_type": "code",
   "execution_count": 13,
   "metadata": {},
   "outputs": [
    {
     "name": "stdout",
     "output_type": "stream",
     "text": [
      "data/\n",
      "data/output.json\n",
      "intermediate/\n",
      "intermediate/.tmp.sagemaker_s3_sync/\n",
      "success\n"
     ]
    }
   ],
   "source": [
    "%%bash\n",
    "tar -C ./output -xvzf ./output/output.tar.gz"
   ]
  },
  {
   "cell_type": "code",
   "execution_count": 14,
   "metadata": {},
   "outputs": [],
   "source": [
    "if local_mode:\n",
    "    output_path_local = \"output/data/output.json\"\n",
    "else:\n",
    "    output_path_local = \"output/output.json\""
   ]
  },
  {
   "cell_type": "code",
   "execution_count": 15,
   "metadata": {},
   "outputs": [
    {
     "data": {
      "text/plain": [
       "<matplotlib.axes._subplots.AxesSubplot at 0x7f12f8082c88>"
      ]
     },
     "execution_count": 15,
     "metadata": {},
     "output_type": "execute_result"
    },
    {
     "data": {
      "image/png": "[encoded data removed]",
      "text/plain": [
       "<Figure size 432x288 with 1 Axes>"
      ]
     },
     "metadata": {},
     "output_type": "display_data"
    }
   ],
   "source": [
    "with open(output_path_local) as f:\n",
    "    all_regrets = json.load(f)\n",
    "    \n",
    "all_regrets = {key: np.cumsum(val) for key,val in all_regrets.items()}\n",
    "df = pd.DataFrame(all_regrets)\n",
    "df.plot(title=\"Cumulative Regret\")"
   ]
  },
  {
   "cell_type": "markdown",
   "metadata": {},
   "source": [
    "Regret은 에이전트가 얻을 수 있는 최적의 보상과 에이전트가 얻은 실제 보상의 차이로 정의됩니다.\n",
    "\n",
    "위의 도표에서 볼 수 있듯이, bandit 에이전트는 랜덤으로 행동을 선택하는 것에 비해 누적 regret이 훨씬 적습니다. \n",
    "우리가 더 많은 훈련을 실시하면 상호 작용(`total_interactions`)의 경우 regret 곡선이 평평해지는 것을 관찰 할 수 있습니다. \n",
    "이는 에이전트가 사용자의 선호도를 성공적으로 학습했으며 훈련이 수렴되었음을 의미합니다.\n",
    "\n",
    "이제 훈련된 모델을 사용하여 신규 데이터에 대한 추론을 수행하는 방법을 살펴 보겠습니다."
   ]
  },
  {
   "cell_type": "markdown",
   "metadata": {},
   "source": [
    "### 추론을 위한 SageMaker 모델 생성"
   ]
  },
  {
   "cell_type": "code",
   "execution_count": 18,
   "metadata": {},
   "outputs": [],
   "source": [
    "sage_session = sagemaker.local.LocalSession() if local_mode else sage_session"
   ]
  },
  {
   "cell_type": "code",
   "execution_count": 19,
   "metadata": {},
   "outputs": [],
   "source": [
    "bandit_model = sagemaker.model.Model(image=vw_image_uri,\n",
    "                                     role=role,\n",
    "                                     name=\"vw-model-1\",\n",
    "                                     model_data=f\"s3://{s3_bucket}/{model_path}\",\n",
    "                                     sagemaker_session=sage_session)"
   ]
  },
  {
   "cell_type": "markdown",
   "metadata": {},
   "source": [
    "SageMaker에 대한 추론은 다음 두 가지 모드를 사용하여 수행할 수 있습니다.\n",
    "\n",
    "- **[배치 변환(Batch Transform](https://docs.aws.amazon.com/sagemaker/latest/dg/batch-transform.html)**: 1초 미만의 지연 시간이 있는 지속적인 서빙 엔드포인트가 필요하지 않은 시나리오에 유용합니다. 이름에서 알 수 있듯이 배치 변환 작업은 배치 데이터를 처리하며 대량의 입력 데이터에서 높은 처리량의 추론을 수행하는 데 유용합니다.\n",
    "- **실시간 추론(Real-time Inference)**: 이 모드는 SageMaker HTTP 웹 서버 엔드 포인트를 가동하여 예측을 실시간으로 제공할 수 있습니다.\n",
    "\n",
    "아래의 코드 셀에서 두 가지 모드를 모두 확인해 보도록 하겠습니다."
   ]
  },
  {
   "cell_type": "markdown",
   "metadata": {},
   "source": [
    "### 1. 배치 변환"
   ]
  },
  {
   "cell_type": "code",
   "execution_count": 20,
   "metadata": {},
   "outputs": [
    {
     "name": "stdout",
     "output_type": "stream",
     "text": [
      "Input path for batch transform: s3://sagemaker-us-west-2-143656149352/testbed-bandits-1-2020-03-26-03-10-56-919/batch_input/\n",
      "Output path for batch transform: s3://sagemaker-us-west-2-143656149352/testbed-bandits-1-2020-03-26-03-10-56-919/batch_output/\n"
     ]
    }
   ],
   "source": [
    "# setup input data prefix and output data prefix for batch transform\n",
    "\n",
    "# S3 prefix where we will upload the test dataset\n",
    "batch_input = f's3://{s3_bucket}/{job_name}/batch_input/'\n",
    "\n",
    "# S3 prefix where the batch transformation job will store the output\n",
    "batch_output = f's3://{s3_bucket}/{job_name}/batch_output/' \n",
    "\n",
    "print(\"Input path for batch transform: {}\".format(batch_input))\n",
    "print(\"Output path for batch transform: {}\".format(batch_output))"
   ]
  },
  {
   "cell_type": "code",
   "execution_count": 21,
   "metadata": {},
   "outputs": [],
   "source": [
    "# Let's create a transformer object that can launch batch transformation jobs\n",
    "\n",
    "batch_transformer = bandit_model.transformer(instance_count=1,\n",
    "                                             instance_type=instance_type,\n",
    "                                             output_path=batch_output,\n",
    "                                             assemble_with = 'Line',\n",
    "                                             accept = 'application/jsonlines',\n",
    "                                             max_payload=5,\n",
    "                                             max_concurrent_transforms=4,\n",
    "                                             strategy='MultiRecord'\n",
    "                                            )"
   ]
  },
  {
   "cell_type": "markdown",
   "metadata": {},
   "source": [
    "### 추론을 위한 테스트 데이터 생성"
   ]
  },
  {
   "cell_type": "markdown",
   "metadata": {},
   "source": [
    "여기서 MovieLens 시뮬레이터를 사용하여 테스트 데이터 인스턴스를 생성합니다."
   ]
  },
  {
   "cell_type": "code",
   "execution_count": 22,
   "metadata": {},
   "outputs": [],
   "source": [
    "from src.env import MovieLens100KEnv"
   ]
  },
  {
   "cell_type": "code",
   "execution_count": 23,
   "metadata": {},
   "outputs": [],
   "source": [
    "top_k = 5\n",
    "env = MovieLens100KEnv(data_dir='./ml-100k', item_pool_size=10, top_k=5, max_users=100)\n",
    "obs = env.reset()"
   ]
  },
  {
   "cell_type": "code",
   "execution_count": 24,
   "metadata": {},
   "outputs": [],
   "source": [
    "with open(\"test_data_batch.jsonlines\", \"w\") as f:\n",
    "    for i in range(100):\n",
    "        user_features, items_features = obs\n",
    "        data_instance = {\"shared_context\": user_features,\n",
    "                        \"actions_context\": items_features.tolist(),\n",
    "                        \"top_k\": 5,\n",
    "                        \"user_id\": env.current_user_id}\n",
    "        f.write(json.dumps(data_instance))\n",
    "        f.write(\"\\n\")\n",
    "\n",
    "        # Step env with random actions to get next user and candidate items\n",
    "        obs, _, done, _ = env.step(actions=np.arange(top_k))"
   ]
  },
  {
   "cell_type": "code",
   "execution_count": 25,
   "metadata": {},
   "outputs": [
    {
     "name": "stdout",
     "output_type": "stream",
     "text": [
      "{\"shared_context\": null, \"actions_context\": [[0.0, 1.0, 1.0, 0.0, 0.0, 0.0, 0.0, 0.0, 0.0, 0.0, 0.0, 0.0, 0.0, 0.0, 0.0, 1.0, 1.0, 0.0, 0.0], [0.0, 0.0, 0.0, 0.0, 0.0, 1.0, 1.0, 0.0, 0.0, 0.0, 0.0, 0.0, 0.0, 0.0, 0.0, 0.0, 0.0, 0.0, 0.0], [0.0, 1.0, 0.0, 0.0, 0.0, 0.0, 0.0, 0.0, 0.0, 0.0, 0.0, 1.0, 0.0, 0.0, 0.0, 1.0, 1.0, 0.0, 0.0], [0.0, 0.0, 0.0, 0.0, 0.0, 0.0, 0.0, 0.0, 1.0, 0.0, 0.0, 0.0, 0.0, 0.0, 0.0, 0.0, 0.0, 1.0, 0.0], [1.0, 0.0, 0.0, 0.0, 0.0, 0.0, 0.0, 0.0, 0.0, 0.0, 0.0, 0.0, 0.0, 0.0, 0.0, 0.0, 0.0, 0.0, 0.0], [0.0, 0.0, 0.0, 0.0, 0.0, 0.0, 0.0, 0.0, 1.0, 0.0, 0.0, 0.0, 0.0, 0.0, 0.0, 0.0, 0.0, 0.0, 0.0], [0.0, 0.0, 0.0, 0.0, 0.0, 1.0, 0.0, 0.0, 0.0, 0.0, 0.0, 1.0, 0.0, 0.0, 0.0, 0.0, 0.0, 0.0, 0.0], [0.0, 0.0, 0.0, 0.0, 0.0, 0.0, 0.0, 0.0, 1.0, 0.0, 0.0, 0.0, 0.0, 0.0, 0.0, 0.0, 0.0, 0.0, 0.0], [0.0, 0.0, 0.0, 0.0, 0.0, 0.0, 0.0, 0.0, 1.0, 0.0, 0.0, 0.0, 0.0, 0.0, 0.0, 0.0, 1.0, 0.0, 0.0], [0.0, 1.0, 1.0, 0.0, 0.0, 1.0, 1.0, 0.0, 0.0, 0.0, 0.0, 0.0, 0.0, 0.0, 0.0, 0.0, 0.0, 0.0, 0.0]], \"top_k\": 5, \"user_id\": 0}\n",
      "{\"shared_context\": null, \"actions_context\": [[0.0, 0.0, 0.0, 0.0, 0.0, 1.0, 0.0, 0.0, 0.0, 0.0, 0.0, 0.0, 0.0, 0.0, 0.0, 0.0, 0.0, 0.0, 0.0], [0.0, 0.0, 0.0, 0.0, 0.0, 0.0, 0.0, 0.0, 1.0, 0.0, 0.0, 0.0, 0.0, 0.0, 1.0, 0.0, 0.0, 0.0, 0.0], [0.0, 0.0, 0.0, 0.0, 0.0, 0.0, 0.0, 0.0, 1.0, 0.0, 0.0, 0.0, 0.0, 0.0, 0.0, 0.0, 0.0, 0.0, 0.0], [0.0, 0.0, 0.0, 0.0, 0.0, 1.0, 0.0, 0.0, 0.0, 0.0, 0.0, 0.0, 0.0, 0.0, 0.0, 0.0, 0.0, 0.0, 0.0], [0.0, 0.0, 0.0, 0.0, 0.0, 0.0, 0.0, 0.0, 1.0, 0.0, 0.0, 0.0, 0.0, 0.0, 1.0, 0.0, 0.0, 0.0, 0.0], [0.0, 0.0, 0.0, 0.0, 0.0, 0.0, 1.0, 0.0, 0.0, 0.0, 0.0, 1.0, 0.0, 1.0, 0.0, 0.0, 1.0, 0.0, 0.0], [0.0, 0.0, 0.0, 0.0, 0.0, 1.0, 1.0, 0.0, 1.0, 0.0, 0.0, 0.0, 0.0, 1.0, 0.0, 0.0, 0.0, 0.0, 0.0], [0.0, 0.0, 0.0, 0.0, 0.0, 0.0, 0.0, 0.0, 1.0, 0.0, 0.0, 0.0, 0.0, 0.0, 1.0, 0.0, 0.0, 0.0, 0.0], [0.0, 1.0, 0.0, 0.0, 0.0, 0.0, 1.0, 0.0, 0.0, 0.0, 0.0, 0.0, 0.0, 0.0, 0.0, 0.0, 1.0, 0.0, 0.0], [0.0, 0.0, 0.0, 1.0, 1.0, 1.0, 0.0, 0.0, 0.0, 0.0, 0.0, 0.0, 0.0, 0.0, 0.0, 0.0, 0.0, 0.0, 0.0]], \"top_k\": 5, \"user_id\": 1}\n"
     ]
    }
   ],
   "source": [
    "%%bash\n",
    "head -n2 test_data_batch.jsonlines"
   ]
  },
  {
   "cell_type": "markdown",
   "metadata": {},
   "source": [
    "이 데이터를 S3에 업로드합니다. 파일 형식은 `jsonlines` 이어야 합니다. 즉, 파일의 각 줄은 JSON 딕셔너리입니다."
   ]
  },
  {
   "cell_type": "code",
   "execution_count": 26,
   "metadata": {},
   "outputs": [
    {
     "data": {
      "text/plain": [
       "'s3://sagemaker-us-west-2-143656149352/testbed-bandits-1-2020-03-26-03-10-56-919/batch_input/test_data_batch.jsonlines'"
      ]
     },
     "execution_count": 26,
     "metadata": {},
     "output_type": "execute_result"
    }
   ],
   "source": [
    "sage_session.upload_data(path=\"test_data_batch.jsonlines\", bucket=s3_bucket, key_prefix=f\"{job_name}/batch_input\")"
   ]
  },
  {
   "cell_type": "code",
   "execution_count": 27,
   "metadata": {},
   "outputs": [
    {
     "name": "stderr",
     "output_type": "stream",
     "text": [
      "Local Mode only supports 1 ConcurrentTransform. Setting MaxConcurrentTransforms to 1\n"
     ]
    },
    {
     "name": "stdout",
     "output_type": "stream",
     "text": [
      "Attaching to tmpr58lekxw_algo-1-qjk0f_1\n",
      "\u001b[36malgo-1-qjk0f_1  |\u001b[0m 14:C 26 Mar 2020 03:18:14.897 # oO0OoO0OoO0Oo Redis is starting oO0OoO0OoO0Oo\n",
      "\u001b[36malgo-1-qjk0f_1  |\u001b[0m 14:C 26 Mar 2020 03:18:14.897 # Redis version=5.0.6, bits=64, commit=00000000, modified=0, pid=14, just started\n",
      "\u001b[36malgo-1-qjk0f_1  |\u001b[0m 14:C 26 Mar 2020 03:18:14.897 # Configuration loaded\n",
      "\u001b[36malgo-1-qjk0f_1  |\u001b[0m 14:M 26 Mar 2020 03:18:14.899 # You requested maxclients of 10000 requiring at least 10032 max file descriptors.\n",
      "\u001b[36malgo-1-qjk0f_1  |\u001b[0m 14:M 26 Mar 2020 03:18:14.899 # Server can't set maximum open files to 10032 because of OS error: Operation not permitted.\n",
      "\u001b[36malgo-1-qjk0f_1  |\u001b[0m 14:M 26 Mar 2020 03:18:14.899 # Current maximum open files is 4096. maxclients has been reduced to 4064 to compensate for low ulimit. If you need higher maxclients increase 'ulimit -n'.\n",
      "\u001b[36malgo-1-qjk0f_1  |\u001b[0m 14:M 26 Mar 2020 03:18:14.899 # WARNING: The TCP backlog setting of 511 cannot be enforced because /proc/sys/net/core/somaxconn is set to the lower value of 128.\n",
      "\u001b[36malgo-1-qjk0f_1  |\u001b[0m 14:M 26 Mar 2020 03:18:14.899 # Server initialized\n",
      "\u001b[36malgo-1-qjk0f_1  |\u001b[0m 14:M 26 Mar 2020 03:18:14.899 # WARNING overcommit_memory is set to 0! Background save may fail under low memory condition. To fix this issue add 'vm.overcommit_memory = 1' to /etc/sysctl.conf and then reboot or run the command 'sysctl vm.overcommit_memory=1' for this to take effect.\n",
      "\u001b[36malgo-1-qjk0f_1  |\u001b[0m 14:M 26 Mar 2020 03:18:14.899 # WARNING you have Transparent Huge Pages (THP) support enabled in your kernel. This will create latency and memory usage issues with Redis. To fix this issue run the command 'echo never > /sys/kernel/mm/transparent_hugepage/enabled' as root, and add it to your /etc/rc.local in order to retain the setting after a reboot. Redis must be restarted after THP is disabled.\n",
      "\u001b[36malgo-1-qjk0f_1  |\u001b[0m [03/26/2020 03:18:17 INFO 139765270390528] Redis server started successfully!\n",
      "\u001b[36malgo-1-qjk0f_1  |\u001b[0m [03/26/2020 03:18:17 INFO 139765270390528] Starting gunicorn...\n",
      "\u001b[36malgo-1-qjk0f_1  |\u001b[0m [03/26/2020 03:18:17 INFO 139765270390528] Started server process with PID: 18\n",
      "\u001b[36malgo-1-qjk0f_1  |\u001b[0m [03/26/2020 03:18:17 INFO 139765270390528] Started gunicorn.\n",
      "\u001b[36malgo-1-qjk0f_1  |\u001b[0m [03/26/2020 03:18:17 WARNING 139765270390528] Loggers have already been setup.\n",
      "\u001b[36malgo-1-qjk0f_1  |\u001b[0m [03/26/2020 03:18:17 INFO 139765270390528 integration.py:348] worker started\n",
      "\u001b[36malgo-1-qjk0f_1  |\u001b[0m [03/26/2020 03:18:17 INFO 139765270390528] loading entry points\n",
      "\u001b[36malgo-1-qjk0f_1  |\u001b[0m [03/26/2020 03:18:17 INFO 139765270390528] Number of server workers: 4\n",
      "\u001b[36malgo-1-qjk0f_1  |\u001b[0m [2020-03-26 03:18:17 +0000] [18] [INFO] Starting gunicorn 19.9.0\n",
      "\u001b[36malgo-1-qjk0f_1  |\u001b[0m [2020-03-26 03:18:17 +0000] [18] [INFO] Listening at: http://0.0.0.0:8080 (18)\n",
      "\u001b[36malgo-1-qjk0f_1  |\u001b[0m [2020-03-26 03:18:17 +0000] [18] [INFO] Using worker: sync\n",
      "\u001b[36malgo-1-qjk0f_1  |\u001b[0m [2020-03-26 03:18:17 +0000] [21] [INFO] Booting worker with pid: 21\n",
      "\u001b[36malgo-1-qjk0f_1  |\u001b[0m [03/26/2020 03:18:17 INFO 139765270390528] Initiated redis client!\n",
      "\u001b[36malgo-1-qjk0f_1  |\u001b[0m [03/26/2020 03:18:17 INFO 139765270390528] creating an instance of VWModel\n",
      "\u001b[36malgo-1-qjk0f_1  |\u001b[0m [03/26/2020 03:18:17 INFO 139765270390528] successfully created VWModel\n",
      "\u001b[36malgo-1-qjk0f_1  |\u001b[0m [03/26/2020 03:18:17 INFO 139765270390528] command: ['vw', '--cb_explore_adf', '--cb_type', 'mtr', '--regcbopt', '--mellowness', '0.01', '-p', '/dev/stdout', '--quiet', '--testonly', '-i', '/opt/ml/model/vw.model']\n",
      "\u001b[36malgo-1-qjk0f_1  |\u001b[0m [03/26/2020 03:18:17 INFO 139765270390528] Loaded weights successfully for Model ID:default_model\n",
      "\u001b[36malgo-1-qjk0f_1  |\u001b[0m [03/26/2020 03:18:17 INFO 139765270390528] Started VW process!\n",
      "\u001b[36malgo-1-qjk0f_1  |\u001b[0m [2020-03-26 03:18:17 +0000] [24] [INFO] Booting worker with pid: 24\n",
      "\u001b[36malgo-1-qjk0f_1  |\u001b[0m [03/26/2020 03:18:17 INFO 139765270390528] Initiated redis client!\n",
      "\u001b[36malgo-1-qjk0f_1  |\u001b[0m [03/26/2020 03:18:17 INFO 139765270390528] creating an instance of VWModel\n",
      "\u001b[36malgo-1-qjk0f_1  |\u001b[0m [03/26/2020 03:18:17 INFO 139765270390528] successfully created VWModel\n",
      "\u001b[36malgo-1-qjk0f_1  |\u001b[0m [03/26/2020 03:18:17 INFO 139765270390528] command: ['vw', '--cb_explore_adf', '--cb_type', 'mtr', '--regcbopt', '--mellowness', '0.01', '-p', '/dev/stdout', '--quiet', '--testonly', '-i', '/opt/ml/model/vw.model']\n",
      "\u001b[36malgo-1-qjk0f_1  |\u001b[0m [03/26/2020 03:18:17 INFO 139765270390528] Loaded weights successfully for Model ID:default_model\n",
      "\u001b[36malgo-1-qjk0f_1  |\u001b[0m [03/26/2020 03:18:17 INFO 139765270390528] Started VW process!\n",
      "\u001b[36malgo-1-qjk0f_1  |\u001b[0m [2020-03-26 03:18:18 +0000] [26] [INFO] Booting worker with pid: 26\n",
      "\u001b[36malgo-1-qjk0f_1  |\u001b[0m [03/26/2020 03:18:18 INFO 139765270390528] Initiated redis client!\n",
      "\u001b[36malgo-1-qjk0f_1  |\u001b[0m [03/26/2020 03:18:18 INFO 139765270390528] creating an instance of VWModel\n",
      "\u001b[36malgo-1-qjk0f_1  |\u001b[0m [03/26/2020 03:18:18 INFO 139765270390528] successfully created VWModel\n",
      "\u001b[36malgo-1-qjk0f_1  |\u001b[0m [03/26/2020 03:18:18 INFO 139765270390528] command: ['vw', '--cb_explore_adf', '--cb_type', 'mtr', '--regcbopt', '--mellowness', '0.01', '-p', '/dev/stdout', '--quiet', '--testonly', '-i', '/opt/ml/model/vw.model']\n",
      "\u001b[36malgo-1-qjk0f_1  |\u001b[0m [03/26/2020 03:18:18 INFO 139765270390528] Loaded weights successfully for Model ID:default_model\n",
      "\u001b[36malgo-1-qjk0f_1  |\u001b[0m [03/26/2020 03:18:18 INFO 139765270390528] Started VW process!\n",
      "\u001b[36malgo-1-qjk0f_1  |\u001b[0m [2020-03-26 03:18:18 +0000] [30] [INFO] Booting worker with pid: 30\n",
      "\u001b[36malgo-1-qjk0f_1  |\u001b[0m [03/26/2020 03:18:18 INFO 139765270390528] Initiated redis client!\n",
      "\u001b[36malgo-1-qjk0f_1  |\u001b[0m [03/26/2020 03:18:18 INFO 139765270390528] creating an instance of VWModel\n",
      "\u001b[36malgo-1-qjk0f_1  |\u001b[0m [03/26/2020 03:18:18 INFO 139765270390528] successfully created VWModel\n",
      "\u001b[36malgo-1-qjk0f_1  |\u001b[0m [03/26/2020 03:18:18 INFO 139765270390528] command: ['vw', '--cb_explore_adf', '--cb_type', 'mtr', '--regcbopt', '--mellowness', '0.01', '-p', '/dev/stdout', '--quiet', '--testonly', '-i', '/opt/ml/model/vw.model']\n",
      "\u001b[36malgo-1-qjk0f_1  |\u001b[0m [03/26/2020 03:18:18 INFO 139765270390528] Loaded weights successfully for Model ID:default_model\n",
      "\u001b[36malgo-1-qjk0f_1  |\u001b[0m [03/26/2020 03:18:18 INFO 139765270390528] Started VW process!\n",
      "Gracefully stopping... (press Ctrl+C again to force)\n",
      "."
     ]
    }
   ],
   "source": [
    "batch_transformer.transform(data=batch_input,\n",
    "                            data_type='S3Prefix',\n",
    "                            content_type='application/jsonlines',\n",
    "                            split_type='Line',\n",
    "                            join_source='Input')\n",
    "batch_transformer.wait()"
   ]
  },
  {
   "cell_type": "markdown",
   "metadata": {},
   "source": [
    "### 배치 변환 결과 다운로드"
   ]
  },
  {
   "cell_type": "code",
   "execution_count": 28,
   "metadata": {},
   "outputs": [
    {
     "data": {
      "text/plain": [
       "'testbed-bandits-1-2020-03-26-03-10-56-919'"
      ]
     },
     "execution_count": 28,
     "metadata": {},
     "output_type": "execute_result"
    }
   ],
   "source": [
    "job_name"
   ]
  },
  {
   "cell_type": "code",
   "execution_count": 29,
   "metadata": {},
   "outputs": [
    {
     "data": {
      "text/plain": [
       "'vw-model-1-2020-03-26-03-18-12-863'"
      ]
     },
     "execution_count": 29,
     "metadata": {},
     "output_type": "execute_result"
    }
   ],
   "source": [
    "batch_transformer._current_job_name"
   ]
  },
  {
   "cell_type": "code",
   "execution_count": 30,
   "metadata": {},
   "outputs": [],
   "source": [
    "if local_mode:\n",
    "    batch_output_prefix = f\"{job_name}/batch_output/{batch_transformer._current_job_name}/\"\n",
    "else:\n",
    "    batch_output_prefix = f\"{job_name}/batch_output/\"\n",
    "    \n",
    "sage_session.download_data(path=\"./output\", bucket=s3_bucket, key_prefix=batch_output_prefix)"
   ]
  },
  {
   "cell_type": "markdown",
   "metadata": {},
   "source": [
    "결과의 일부를 확인해 보겠습니다."
   ]
  },
  {
   "cell_type": "code",
   "execution_count": 31,
   "metadata": {},
   "outputs": [
    {
     "name": "stdout",
     "output_type": "stream",
     "text": [
      "{\"actions\": [8, 5, 7, 3, 1], \"action_probs\": [1.0, 1.0, 1.0, 1.0, 1.0], \"event_id\": 149231426285642876369063813834068852738, \"timestamp\": 1585192698, \"sample_prob\": 0.604869947997136, \"model_id\": \"default_model\"}\n",
      "{\"actions\": [6, 2, 8, 1, 4], \"action_probs\": [1.0, 1.0, 1.0, 1.0, 1.0], \"event_id\": 149232862692229259981504384785888444418, \"timestamp\": 1585192698, \"sample_prob\": 0.07634813420153941, \"model_id\": \"default_model\"}\n",
      "{\"actions\": [0, 5, 1, 4, 8], \"action_probs\": [1.0, 1.0, 1.0, 1.0, 1.0], \"event_id\": 149233643881911650627873057129238757378, \"timestamp\": 1585192698, \"sample_prob\": 0.6288983917466618, \"model_id\": \"default_model\"}\n",
      "{\"actions\": [6, 8, 5, 7, 4], \"action_probs\": [1.0, 1.0, 1.0, 1.0, 1.0], \"event_id\": 149234434578973542985962240697863110658, \"timestamp\": 1585192698, \"sample_prob\": 0.8842588336856928, \"model_id\": \"default_model\"}\n",
      "{\"actions\": [4, 9, 0, 1, 5], \"action_probs\": [1.0, 1.0, 1.0, 1.0, 1.0], \"event_id\": 149235178531419551928092244075556765698, \"timestamp\": 1585192698, \"sample_prob\": 0.1980934683009593, \"model_id\": \"default_model\"}\n"
     ]
    }
   ],
   "source": [
    "%%bash\n",
    "head -n5 ./output/test_data_batch.jsonlines.out"
   ]
  },
  {
   "cell_type": "markdown",
   "metadata": {},
   "source": [
    "### 2. 실시간 추론"
   ]
  },
  {
   "cell_type": "markdown",
   "metadata": {},
   "source": [
    "실시간 추론을 수행하려면 SageMaker 엔드포인트 뒤에 모델을 배포하고 아래와 같이 요청을 할 수 있습니다."
   ]
  },
  {
   "cell_type": "code",
   "execution_count": 32,
   "metadata": {},
   "outputs": [
    {
     "name": "stdout",
     "output_type": "stream",
     "text": [
      "Attaching to tmp3fjocva6_algo-1-i5e3x_1\n",
      "\u001b[36malgo-1-i5e3x_1  |\u001b[0m 14:C 26 Mar 2020 03:20:07.904 # oO0OoO0OoO0Oo Redis is starting oO0OoO0OoO0Oo\n",
      "\u001b[36malgo-1-i5e3x_1  |\u001b[0m 14:C 26 Mar 2020 03:20:07.904 # Redis version=5.0.6, bits=64, commit=00000000, modified=0, pid=14, just started\n",
      "\u001b[36malgo-1-i5e3x_1  |\u001b[0m 14:C 26 Mar 2020 03:20:07.904 # Configuration loaded\n",
      "\u001b[36malgo-1-i5e3x_1  |\u001b[0m 14:M 26 Mar 2020 03:20:07.905 # You requested maxclients of 10000 requiring at least 10032 max file descriptors.\n",
      "\u001b[36malgo-1-i5e3x_1  |\u001b[0m 14:M 26 Mar 2020 03:20:07.905 # Server can't set maximum open files to 10032 because of OS error: Operation not permitted.\n",
      "\u001b[36malgo-1-i5e3x_1  |\u001b[0m 14:M 26 Mar 2020 03:20:07.905 # Current maximum open files is 4096. maxclients has been reduced to 4064 to compensate for low ulimit. If you need higher maxclients increase 'ulimit -n'.\n",
      "\u001b[36malgo-1-i5e3x_1  |\u001b[0m 14:M 26 Mar 2020 03:20:07.906 # WARNING: The TCP backlog setting of 511 cannot be enforced because /proc/sys/net/core/somaxconn is set to the lower value of 128.\n",
      "\u001b[36malgo-1-i5e3x_1  |\u001b[0m 14:M 26 Mar 2020 03:20:07.906 # Server initialized\n",
      "\u001b[36malgo-1-i5e3x_1  |\u001b[0m 14:M 26 Mar 2020 03:20:07.906 # WARNING overcommit_memory is set to 0! Background save may fail under low memory condition. To fix this issue add 'vm.overcommit_memory = 1' to /etc/sysctl.conf and then reboot or run the command 'sysctl vm.overcommit_memory=1' for this to take effect.\n",
      "\u001b[36malgo-1-i5e3x_1  |\u001b[0m 14:M 26 Mar 2020 03:20:07.906 # WARNING you have Transparent Huge Pages (THP) support enabled in your kernel. This will create latency and memory usage issues with Redis. To fix this issue run the command 'echo never > /sys/kernel/mm/transparent_hugepage/enabled' as root, and add it to your /etc/rc.local in order to retain the setting after a reboot. Redis must be restarted after THP is disabled.\n",
      "\u001b[36malgo-1-i5e3x_1  |\u001b[0m [03/26/2020 03:20:10 INFO 140314497619712] Redis server started successfully!\n",
      "\u001b[36malgo-1-i5e3x_1  |\u001b[0m [03/26/2020 03:20:10 INFO 140314497619712] Starting gunicorn...\n",
      "\u001b[36malgo-1-i5e3x_1  |\u001b[0m [03/26/2020 03:20:10 INFO 140314497619712] Started server process with PID: 18\n",
      "\u001b[36malgo-1-i5e3x_1  |\u001b[0m [03/26/2020 03:20:10 INFO 140314497619712] Started gunicorn.\n",
      "\u001b[36malgo-1-i5e3x_1  |\u001b[0m [03/26/2020 03:20:10 WARNING 140314497619712] Loggers have already been setup.\n",
      "\u001b[36malgo-1-i5e3x_1  |\u001b[0m [03/26/2020 03:20:10 INFO 140314497619712 integration.py:348] worker started\n",
      "\u001b[36malgo-1-i5e3x_1  |\u001b[0m [03/26/2020 03:20:10 INFO 140314497619712] loading entry points\n",
      "\u001b[36malgo-1-i5e3x_1  |\u001b[0m [03/26/2020 03:20:10 INFO 140314497619712] Number of server workers: 4\n",
      "\u001b[36malgo-1-i5e3x_1  |\u001b[0m [2020-03-26 03:20:10 +0000] [18] [INFO] Starting gunicorn 19.9.0\n",
      "\u001b[36malgo-1-i5e3x_1  |\u001b[0m [2020-03-26 03:20:10 +0000] [18] [INFO] Listening at: http://0.0.0.0:8080 (18)\n",
      "\u001b[36malgo-1-i5e3x_1  |\u001b[0m [2020-03-26 03:20:10 +0000] [18] [INFO] Using worker: sync\n",
      "\u001b[36malgo-1-i5e3x_1  |\u001b[0m [2020-03-26 03:20:10 +0000] [21] [INFO] Booting worker with pid: 21\n",
      "\u001b[36malgo-1-i5e3x_1  |\u001b[0m [03/26/2020 03:20:10 INFO 140314497619712] Initiated redis client!\n",
      "\u001b[36malgo-1-i5e3x_1  |\u001b[0m [03/26/2020 03:20:10 INFO 140314497619712] creating an instance of VWModel\n",
      "\u001b[36malgo-1-i5e3x_1  |\u001b[0m [03/26/2020 03:20:10 INFO 140314497619712] successfully created VWModel\n",
      "\u001b[36malgo-1-i5e3x_1  |\u001b[0m [03/26/2020 03:20:10 INFO 140314497619712] command: ['vw', '--cb_explore_adf', '--cb_type', 'mtr', '--regcbopt', '--mellowness', '0.01', '-p', '/dev/stdout', '--quiet', '--testonly', '-i', '/opt/ml/model/vw.model']\n",
      "\u001b[36malgo-1-i5e3x_1  |\u001b[0m [03/26/2020 03:20:10 INFO 140314497619712] Loaded weights successfully for Model ID:default_model\n",
      "\u001b[36malgo-1-i5e3x_1  |\u001b[0m [03/26/2020 03:20:10 INFO 140314497619712] Started VW process!\n",
      "\u001b[36malgo-1-i5e3x_1  |\u001b[0m [2020-03-26 03:20:11 +0000] [24] [INFO] Booting worker with pid: 24\n",
      "\u001b[36malgo-1-i5e3x_1  |\u001b[0m [03/26/2020 03:20:11 INFO 140314497619712] Initiated redis client!\n",
      "\u001b[36malgo-1-i5e3x_1  |\u001b[0m [03/26/2020 03:20:11 INFO 140314497619712] creating an instance of VWModel\n",
      "\u001b[36malgo-1-i5e3x_1  |\u001b[0m [03/26/2020 03:20:11 INFO 140314497619712] successfully created VWModel\n",
      "\u001b[36malgo-1-i5e3x_1  |\u001b[0m [03/26/2020 03:20:11 INFO 140314497619712] command: ['vw', '--cb_explore_adf', '--cb_type', 'mtr', '--regcbopt', '--mellowness', '0.01', '-p', '/dev/stdout', '--quiet', '--testonly', '-i', '/opt/ml/model/vw.model']\n",
      "\u001b[36malgo-1-i5e3x_1  |\u001b[0m [03/26/2020 03:20:11 INFO 140314497619712] Loaded weights successfully for Model ID:default_model\n",
      "\u001b[36malgo-1-i5e3x_1  |\u001b[0m [03/26/2020 03:20:11 INFO 140314497619712] Started VW process!\n",
      "!"
     ]
    }
   ],
   "source": [
    "bandit_model.deploy(initial_instance_count=1, instance_type=instance_type, endpoint_name=\"bandit\")"
   ]
  },
  {
   "cell_type": "code",
   "execution_count": 33,
   "metadata": {},
   "outputs": [],
   "source": [
    "predictor = sagemaker.predictor.RealTimePredictor(endpoint=\"bandit\",\n",
    "                                                  sagemaker_session=bandit_model.sagemaker_session,\n",
    "                                                  serializer=sagemaker.predictor.json_serializer,\n",
    "                                                  deserializer=sagemaker.predictor.json_deserializer,\n",
    "                                                 )"
   ]
  },
  {
   "cell_type": "code",
   "execution_count": 34,
   "metadata": {},
   "outputs": [
    {
     "name": "stdout",
     "output_type": "stream",
     "text": [
      "\u001b[36malgo-1-i5e3x_1  |\u001b[0m [2020-03-26 03:20:11 +0000] [27] [INFO] Booting worker with pid: 27\r\n",
      "\u001b[36malgo-1-i5e3x_1  |\u001b[0m [03/26/2020 03:20:11 INFO 140314497619712] Initiated redis client!\r\n",
      "\u001b[36malgo-1-i5e3x_1  |\u001b[0m [03/26/2020 03:20:11 INFO 140314497619712] creating an instance of VWModel\r\n",
      "\u001b[36malgo-1-i5e3x_1  |\u001b[0m [03/26/2020 03:20:11 INFO 140314497619712] successfully created VWModel\r\n",
      "\u001b[36malgo-1-i5e3x_1  |\u001b[0m [03/26/2020 03:20:11 INFO 140314497619712] command: ['vw', '--cb_explore_adf', '--cb_type', 'mtr', '--regcbopt', '--mellowness', '0.01', '-p', '/dev/stdout', '--quiet', '--testonly', '-i', '/opt/ml/model/vw.model']\r\n",
      "\u001b[36malgo-1-i5e3x_1  |\u001b[0m [03/26/2020 03:20:11 INFO 140314497619712] Loaded weights successfully for Model ID:default_model\r\n",
      "\u001b[36malgo-1-i5e3x_1  |\u001b[0m [03/26/2020 03:20:11 INFO 140314497619712] Started VW process!\r\n"
     ]
    },
    {
     "data": {
      "text/plain": [
       "{'actions': [1, 0],\n",
       " 'action_probs': [1.0, 1.0],\n",
       " 'event_id': 238754710153049510504964445951419875330,\n",
       " 'timestamp': 1585192811,\n",
       " 'sample_prob': 0.35479849798776075,\n",
       " 'model_id': 'default_model'}"
      ]
     },
     "execution_count": 34,
     "metadata": {},
     "output_type": "execute_result"
    },
    {
     "name": "stdout",
     "output_type": "stream",
     "text": [
      "\u001b[36malgo-1-i5e3x_1  |\u001b[0m [2020-03-26 03:20:11 +0000] [30] [INFO] Booting worker with pid: 30\r\n",
      "\u001b[36malgo-1-i5e3x_1  |\u001b[0m [03/26/2020 03:20:11 INFO 140314497619712] Initiated redis client!\r\n",
      "\u001b[36malgo-1-i5e3x_1  |\u001b[0m [03/26/2020 03:20:11 INFO 140314497619712] creating an instance of VWModel\r\n",
      "\u001b[36malgo-1-i5e3x_1  |\u001b[0m [03/26/2020 03:20:11 INFO 140314497619712] successfully created VWModel\r\n",
      "\u001b[36malgo-1-i5e3x_1  |\u001b[0m [03/26/2020 03:20:11 INFO 140314497619712] command: ['vw', '--cb_explore_adf', '--cb_type', 'mtr', '--regcbopt', '--mellowness', '0.01', '-p', '/dev/stdout', '--quiet', '--testonly', '-i', '/opt/ml/model/vw.model']\r\n",
      "\u001b[36malgo-1-i5e3x_1  |\u001b[0m [03/26/2020 03:20:11 INFO 140314497619712] Loaded weights successfully for Model ID:default_model\r\n",
      "\u001b[36malgo-1-i5e3x_1  |\u001b[0m [03/26/2020 03:20:11 INFO 140314497619712] Started VW process!\r\n"
     ]
    }
   ],
   "source": [
    "predictor.predict({\"shared_context\": None, \"actions_context\": [[0, 0, 1], [1, 0, 0], [1, 1, 1]], \"top_k\": 2})"
   ]
  },
  {
   "cell_type": "markdown",
   "metadata": {},
   "source": [
    "### 엔드포인트 삭제"
   ]
  },
  {
   "cell_type": "code",
   "execution_count": 35,
   "metadata": {},
   "outputs": [
    {
     "name": "stdout",
     "output_type": "stream",
     "text": [
      "Gracefully stopping... (press Ctrl+C again to force)\n"
     ]
    }
   ],
   "source": [
    "if \"predictor\" in locals():\n",
    "    predictor.delete_endpoint()"
   ]
  }
 ],
 "metadata": {
  "kernelspec": {
   "display_name": "conda_python3",
   "language": "python",
   "name": "conda_python3"
  },
  "language_info": {
   "codemirror_mode": {
    "name": "ipython",
    "version": 3
   },
   "file_extension": ".py",
   "mimetype": "text/x-python",
   "name": "python",
   "nbconvert_exporter": "python",
   "pygments_lexer": "ipython3",
   "version": "3.6.5"
  }
 },
 "nbformat": 4,
 "nbformat_minor": 4
}
