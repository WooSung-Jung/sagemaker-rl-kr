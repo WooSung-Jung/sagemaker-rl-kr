{
 "cells": [
  {
   "cell_type": "markdown",
   "metadata": {},
   "source": [
    "# Amazon SageMaker를 사용한 물리 로봇의 Roboschool 시뮬레이션\n",
    "\n",
    "---\n",
    "\n",
    "## 소개\n",
    "\n",
    "Roboschool은 가상 로봇 시스템에 대한 RL 정책을 훈련시키는 데 주로 사용되는 [오픈 소스](https://github.com/openai/roboschool/tree/master/roboschool) 물리 시뮬레이터입니다. Roboschool은 물리적 시스템의 3D 시각화를 제공하여 상호간 및 여러 환경과 접촉하는 멀티 조인트를 제공합니다.\n",
    "\n",
    "이 노트북은 SageMaker RL 컨테이너에 Roboschool을 설치하고 Roboschool에 포함된 사전 구축된(pre-built) 로봇 어플리케이션을 훈련하는 방법을 보여줍니다."
   ]
  },
  {
   "cell_type": "markdown",
   "metadata": {},
   "source": [
    "## 해결해야 할 Roboschool 문제 선택\n",
    "\n",
    "Roboschool은 다양한 로봇 문제에 해당하는 [다양한](https://github.com/openai/roboschool/blob/master/roboschool/__init__.py) gym 환경을 정의합니다. 아래는 다양한 난이도 중 몇 가지를 보여줍니다.\n",
    "\n",
    "- **Reacher (쉬움)** - 2개의 조인트만 있는 매우 간단한 로봇이 목표물에 도달합니다.\n",
    "- **호퍼 (중간)** - 한쪽 다리와 발이 달린 간단한 로봇이 트랙을 뛰어 내리는 법을 배웁니다.\n",
    "- **휴머노이드 (어려움)** - 두 개의 팔, 두 개의 다리 등이 있는 복잡한 3D 로봇은 넘어지지 않고 균형을 잡은 다음 트랙에서 달리는 법을 배웁니다.\n",
    "\n",
    "간단한 문제들은 적은 계산 리소스 상에서 더 빨리 훈련됩니다. 물론 더 복잡한 문제들은 훈련이 느리지만 더 재미있습니다."
   ]
  },
  {
   "cell_type": "code",
   "execution_count": 1,
   "metadata": {},
   "outputs": [],
   "source": [
    "# Uncomment the problem to work on\n",
    "roboschool_problem = 'reacher'\n",
    "#roboschool_problem = 'hopper'\n",
    "#roboschool_problem = 'humanoid'"
   ]
  },
  {
   "cell_type": "markdown",
   "metadata": {},
   "source": [
    "## 전제 조건(Pre-requisites)\n",
    "\n",
    "### 라이브러리 임포트\n",
    "\n",
    "시작하기 위해, 필요한 Python 라이브러리를 가져와서 권한 및 구성을 위한 몇 가지 전제 조건으로 환경을 설정합니다."
   ]
  },
  {
   "cell_type": "code",
   "execution_count": 2,
   "metadata": {
    "scrolled": true
   },
   "outputs": [],
   "source": [
    "import sagemaker\n",
    "import boto3\n",
    "import sys\n",
    "import os\n",
    "import glob\n",
    "import re\n",
    "import subprocess\n",
    "import numpy as np\n",
    "from IPython.display import HTML\n",
    "import time\n",
    "from time import gmtime, strftime\n",
    "sys.path.append(\"common\")\n",
    "from misc import get_execution_role, wait_for_s3_object\n",
    "from docker_utils import build_and_push_docker_image\n",
    "from sagemaker.rl import RLEstimator, RLToolkit, RLFramework"
   ]
  },
  {
   "cell_type": "markdown",
   "metadata": {},
   "source": [
    "### S3 버킷 설정\n",
    "\n",
    "체크포인트(checkpoint) 및 메타데이터에 사용하려는 S3 버킷에 대한 연결 및 인증을 설정합니다."
   ]
  },
  {
   "cell_type": "code",
   "execution_count": 3,
   "metadata": {},
   "outputs": [
    {
     "name": "stdout",
     "output_type": "stream",
     "text": [
      "S3 bucket path: s3://sagemaker-us-west-2-143656149352/\n"
     ]
    }
   ],
   "source": [
    "sage_session = sagemaker.session.Session()\n",
    "s3_bucket = sage_session.default_bucket()  \n",
    "s3_output_path = 's3://{}/'.format(s3_bucket)\n",
    "print(\"S3 bucket path: {}\".format(s3_output_path))"
   ]
  },
  {
   "cell_type": "markdown",
   "metadata": {},
   "source": [
    "### 변수 설정\n",
    "\n",
    "훈련 작업의 작업 접두사(job prefix)와 *컨테이너의 이미지 경로(BYOC 인 경우에만)와 같은 변수*를 정의합니다."
   ]
  },
  {
   "cell_type": "code",
   "execution_count": 4,
   "metadata": {},
   "outputs": [],
   "source": [
    "# create a descriptive job name \n",
    "job_name_prefix = 'rl-roboschool-'+roboschool_problem"
   ]
  },
  {
   "cell_type": "markdown",
   "metadata": {},
   "source": [
    "### 훈련이 진행되는 위치 구성\n",
    "\n",
    "SageMaker 노트북 인스턴스 또는 로컬 노트북 인스턴스를 사용하여 RL 훈련 작업을 훈련할 수 있습니다. 로컬 모드는 SageMaker Python SDK를 사용하여 SageMaker에 배포하기 전에 로컬 컨테이너에서 코드를 실행합니다. 이렇게 하면, 익숙한 Python SDK 인터페이스를 사용하면서 반복 테스트 및 디버깅 속도를 높일 수 있습니다. 여러분은 `local_mode = True` 만 설정하면 됩니다."
   ]
  },
  {
   "cell_type": "code",
   "execution_count": 5,
   "metadata": {},
   "outputs": [],
   "source": [
    "# run in local_mode on this machine, or as a SageMaker TrainingJob?\n",
    "local_mode = False\n",
    "\n",
    "if local_mode:\n",
    "    instance_type = 'local'\n",
    "else:\n",
    "    # If on SageMaker, pick the instance type\n",
    "    instance_type = \"ml.c5.2xlarge\""
   ]
  },
  {
   "cell_type": "markdown",
   "metadata": {},
   "source": [
    "### IAM 역할 생성\n",
    "\n",
    "SageMaker 노트북 `role = sagemaker.get_execution_role()`을 실행할 때 실행 역할(execution role)을 얻거나 로컬 시스템에서 실행할 때 utils 메소드 `role = get_execution_role()`을 사용하여 실행 역할을 작성하세요."
   ]
  },
  {
   "cell_type": "code",
   "execution_count": 6,
   "metadata": {},
   "outputs": [
    {
     "name": "stdout",
     "output_type": "stream",
     "text": [
      "Using IAM role arn: arn:aws:iam::143656149352:role/service-role/AmazonSageMaker-ExecutionRole-20200323T143836\n"
     ]
    }
   ],
   "source": [
    "try:\n",
    "    role = sagemaker.get_execution_role()\n",
    "except:\n",
    "    role = get_execution_role()\n",
    "\n",
    "print(\"Using IAM role arn: {}\".format(role))"
   ]
  },
  {
   "cell_type": "markdown",
   "metadata": {},
   "source": [
    "### `로컬` 모드용 도커 설치\n",
    "\n",
    "로컬 모드에서 작업하려면 도커(docker)가 설치되어 있어야 합니다. 로컬 머신에서 실행할 때는 docker 또는 docker-compose(로컬 CPU 머신의 경우) 및 nvidia-docker(로컬 GPU 머신의 경우)가 설치되어 있는지 확인하세요. 또는, SageMaker 노트북 인스턴스에서 실행할 때 다음 스크립트를 실행하여 관련 패키지들을 설치할 수 있습니다.\n",
    "\n",
    "참고로, 한 번에 하나의 로컬 노트북만 실행할 수 있습니다."
   ]
  },
  {
   "cell_type": "code",
   "execution_count": 7,
   "metadata": {},
   "outputs": [],
   "source": [
    "# only run from SageMaker notebook instance\n",
    "if local_mode:\n",
    "    !/bin/bash ./common/setup.sh"
   ]
  },
  {
   "cell_type": "markdown",
   "metadata": {},
   "source": [
    "## 도커 컨테이너 빌드\n",
    "\n",
    "Roboschool이 설치된 사용자 정의 도커 컨테이너를 빌드해야 합니다. 컨테이너 빌드 작업은 아래 과정을 거쳐 처리됩니다.\n",
    "\n",
    "1. 기본 컨테이너 이미지 가져오기\n",
    "2. Roboschool 및 의존성 패키지 설치\n",
    "3. 새 컨테이너 이미지를 ECR에 업로드\n",
    "\n",
    "인터넷 연결이 느린 컴퓨터에서 실행 중인 경우, 이 단계에서 시간이 오래 걸릴 수 있습니다. 노트북 인스턴스가 SageMaker 또는 EC2 인 경우 인스턴스 유형에 따라 3-10 분이 걸립니다."
   ]
  },
  {
   "cell_type": "code",
   "execution_count": 8,
   "metadata": {},
   "outputs": [
    {
     "name": "stdout",
     "output_type": "stream",
     "text": [
      "WARNING! Using --password via the CLI is insecure. Use --password-stdin.\n",
      "WARNING! Your password will be stored unencrypted in /home/ec2-user/.docker/config.json.\n",
      "Configure a credential helper to remove this warning. See\n",
      "https://docs.docker.com/engine/reference/commandline/login/#credentials-store\n",
      "\n",
      "Login Succeeded\n",
      "Logged into ECR\n",
      "Building docker image sagemaker-roboschool-ray-cpu from Dockerfile\n",
      "$ docker build -t sagemaker-roboschool-ray-cpu -f Dockerfile . --build-arg CPU_OR_GPU=cpu --build-arg AWS_REGION=us-west-2\n",
      "Sending build context to Docker daemon  699.4kB\n",
      "Step 1/14 : ARG CPU_OR_GPU\n",
      "Step 2/14 : ARG AWS_REGION\n",
      "Step 3/14 : FROM 520713654638.dkr.ecr.${AWS_REGION}.amazonaws.com/sagemaker-rl-tensorflow:ray0.6.5-${CPU_OR_GPU}-py3\n",
      " ---> 2cb0fbd42e4f\n",
      "Step 4/14 : WORKDIR /opt/ml\n",
      " ---> Using cache\n",
      " ---> a1aff9d23c92\n",
      "Step 5/14 : RUN apt-get update && apt-get install -y       git cmake ffmpeg pkg-config       qtbase5-dev libqt5opengl5-dev libassimp-dev       libtinyxml-dev       libgl1-mesa-dev     && cd /opt     && apt-get clean && rm -rf /var/cache/apt/archives/* /var/lib/apt/lists/*\n",
      " ---> Using cache\n",
      " ---> c86d6790ed9f\n",
      "Step 6/14 : RUN apt-get update &&     apt-get install -y libboost-python-dev\n",
      " ---> Using cache\n",
      " ---> 38b9ca78de03\n",
      "Step 7/14 : RUN apt-get update     && apt-get install -y --no-install-recommends python3.6-dev     && ln -s -f /usr/bin/python3.6 /usr/bin/python     && apt-get clean     && rm -rf /var/cache/apt/archives/* /var/lib/apt/lists/*\n",
      " ---> Using cache\n",
      " ---> 74c18ebaa630\n",
      "Step 8/14 : RUN curl -fSsL -O https://bootstrap.pypa.io/get-pip.py &&     python get-pip.py &&     rm get-pip.py\n",
      " ---> Using cache\n",
      " ---> 3262d08cd78d\n",
      "Step 9/14 : RUN pip install --upgrade     pip     setuptools     setproctitle     lz4     psutil\n",
      " ---> Using cache\n",
      " ---> 7cb32bb54ead\n",
      "Step 10/14 : RUN pip install sagemaker-containers --upgrade\n",
      " ---> Using cache\n",
      " ---> 6790ea79736c\n",
      "Step 11/14 : RUN pip install roboschool==1.0.46\n",
      " ---> Using cache\n",
      " ---> 9713c52c78a6\n",
      "Step 12/14 : ENV PYTHONUNBUFFERED 1\n",
      " ---> Using cache\n",
      " ---> 21c213c1fcec\n",
      "Step 13/14 : RUN python -c \"import gym;import sagemaker_containers.cli.train;import roboschool; import ray; from sagemaker_containers.cli.train import main\"\n",
      " ---> Using cache\n",
      " ---> df0cf0d86097\n",
      "Step 14/14 : WORKDIR /opt/ml/code\n",
      " ---> Using cache\n",
      " ---> 3b3b81df8003\n",
      "Successfully built 3b3b81df8003\n",
      "Successfully tagged sagemaker-roboschool-ray-cpu:latest\n",
      "Done building docker image sagemaker-roboschool-ray-cpu\n",
      "ECR repository already exists: sagemaker-roboschool-ray-cpu\n",
      "WARNING! Using --password via the CLI is insecure. Use --password-stdin.\n",
      "WARNING! Your password will be stored unencrypted in /home/ec2-user/.docker/config.json.\n",
      "Configure a credential helper to remove this warning. See\n",
      "https://docs.docker.com/engine/reference/commandline/login/#credentials-store\n",
      "\n",
      "Login Succeeded\n",
      "Logged into ECR\n",
      "$ docker tag sagemaker-roboschool-ray-cpu 143656149352.dkr.ecr.us-west-2.amazonaws.com/sagemaker-roboschool-ray-cpu\n",
      "Pushing docker image to ECR repository 143656149352.dkr.ecr.us-west-2.amazonaws.com/sagemaker-roboschool-ray-cpu\n",
      "\n",
      "$ docker push 143656149352.dkr.ecr.us-west-2.amazonaws.com/sagemaker-roboschool-ray-cpu\n",
      "The push refers to repository [143656149352.dkr.ecr.us-west-2.amazonaws.com/sagemaker-roboschool-ray-cpu]\n",
      "f434c87d3171: Preparing\n",
      "d9ca50d1242a: Preparing\n",
      "1e48675d0856: Preparing\n",
      "ff72fbd0a680: Preparing\n",
      "645bb8bf7ff8: Preparing\n",
      "8b31ca28da70: Preparing\n",
      "0974ae33d245: Preparing\n",
      "35d015355c5a: Preparing\n",
      "8b9447d83141: Preparing\n",
      "ddf4d03c1114: Preparing\n",
      "4ca2774d03ad: Preparing\n",
      "5f529b3bfb80: Preparing\n",
      "98e304f283f0: Preparing\n",
      "23681bc45eb1: Preparing\n",
      "6b1c8a672492: Preparing\n",
      "24a50b276aa2: Preparing\n",
      "20d31e3bf939: Preparing\n",
      "f5bfc884818e: Preparing\n",
      "e02974668a2f: Preparing\n",
      "447587c31234: Preparing\n",
      "af85d3ef13a4: Preparing\n",
      "61b79d490960: Preparing\n",
      "05862bea4cbf: Preparing\n",
      "93b18a689dde: Preparing\n",
      "c41c3ed9eaf4: Preparing\n",
      "d908c11b1a82: Preparing\n",
      "7ccfaa7554e3: Preparing\n",
      "89ec57aea3bf: Preparing\n",
      "a0c1e01578b7: Preparing\n",
      "8b31ca28da70: Waiting\n",
      "f5bfc884818e: Waiting\n",
      "0974ae33d245: Waiting\n",
      "e02974668a2f: Waiting\n",
      "35d015355c5a: Waiting\n",
      "8b9447d83141: Waiting\n",
      "447587c31234: Waiting\n",
      "ddf4d03c1114: Waiting\n",
      "af85d3ef13a4: Waiting\n",
      "4ca2774d03ad: Waiting\n",
      "61b79d490960: Waiting\n",
      "05862bea4cbf: Waiting\n",
      "93b18a689dde: Waiting\n",
      "5f529b3bfb80: Waiting\n",
      "c41c3ed9eaf4: Waiting\n",
      "d908c11b1a82: Waiting\n",
      "7ccfaa7554e3: Waiting\n",
      "89ec57aea3bf: Waiting\n",
      "a0c1e01578b7: Waiting\n",
      "20d31e3bf939: Waiting\n",
      "23681bc45eb1: Waiting\n",
      "6b1c8a672492: Waiting\n",
      "98e304f283f0: Waiting\n",
      "1e48675d0856: Layer already exists\n",
      "645bb8bf7ff8: Layer already exists\n",
      "f434c87d3171: Layer already exists\n",
      "d9ca50d1242a: Layer already exists\n",
      "ff72fbd0a680: Layer already exists\n",
      "8b31ca28da70: Layer already exists\n",
      "0974ae33d245: Layer already exists\n",
      "35d015355c5a: Layer already exists\n",
      "8b9447d83141: Layer already exists\n",
      "ddf4d03c1114: Layer already exists\n",
      "5f529b3bfb80: Layer already exists\n",
      "4ca2774d03ad: Layer already exists\n",
      "98e304f283f0: Layer already exists\n",
      "23681bc45eb1: Layer already exists\n",
      "6b1c8a672492: Layer already exists\n",
      "20d31e3bf939: Layer already exists\n",
      "e02974668a2f: Layer already exists\n",
      "447587c31234: Layer already exists\n",
      "f5bfc884818e: Layer already exists\n",
      "61b79d490960: Layer already exists\n",
      "af85d3ef13a4: Layer already exists\n",
      "05862bea4cbf: Layer already exists\n",
      "93b18a689dde: Layer already exists\n",
      "c41c3ed9eaf4: Layer already exists\n",
      "d908c11b1a82: Layer already exists\n",
      "7ccfaa7554e3: Layer already exists\n",
      "89ec57aea3bf: Layer already exists\n",
      "a0c1e01578b7: Layer already exists\n",
      "24a50b276aa2: Layer already exists\n",
      "latest: digest: sha256:03d10fea1e3dd0823972820b151db6f32807e75a523f8fb5d6de7263b25c3945 size: 6404\n",
      "Done pushing 143656149352.dkr.ecr.us-west-2.amazonaws.com/sagemaker-roboschool-ray-cpu\n",
      "Using ECR image 143656149352.dkr.ecr.us-west-2.amazonaws.com/sagemaker-roboschool-ray-cpu\n",
      "CPU times: user 162 ms, sys: 32.9 ms, total: 195 ms\n",
      "Wall time: 1.68 s\n"
     ]
    }
   ],
   "source": [
    "%%time\n",
    "\n",
    "cpu_or_gpu = 'gpu' if instance_type.startswith('ml.p') else 'cpu'\n",
    "repository_short_name = \"sagemaker-roboschool-ray-%s\" % cpu_or_gpu\n",
    "docker_build_args = {\n",
    "    'CPU_OR_GPU': cpu_or_gpu, \n",
    "    'AWS_REGION': boto3.Session().region_name,\n",
    "}\n",
    "custom_image_name = build_and_push_docker_image(repository_short_name, build_args=docker_build_args)\n",
    "print(\"Using ECR image %s\" % custom_image_name)"
   ]
  },
  {
   "cell_type": "markdown",
   "metadata": {},
   "source": [
    "## 훈련 코드 작성\n",
    "\n",
    "훈련 코드는 `/src` 디렉토리에 업로드된 `“train-coach.py”` 파일에 작성됩니다. 먼저 환경 파일과 사전 설정 파일을 가져온 다음, `main()` 함수를 정의하세요."
   ]
  },
  {
   "cell_type": "code",
   "execution_count": 9,
   "metadata": {},
   "outputs": [
    {
     "name": "stdout",
     "output_type": "stream",
     "text": [
      "\u001b[34mimport\u001b[39;49;00m \u001b[04m\u001b[36mjson\u001b[39;49;00m\r\n",
      "\u001b[34mimport\u001b[39;49;00m \u001b[04m\u001b[36mos\u001b[39;49;00m\r\n",
      "\r\n",
      "\u001b[34mimport\u001b[39;49;00m \u001b[04m\u001b[36mgym\u001b[39;49;00m\r\n",
      "\u001b[34mimport\u001b[39;49;00m \u001b[04m\u001b[36mray\u001b[39;49;00m\r\n",
      "\u001b[34mfrom\u001b[39;49;00m \u001b[04m\u001b[36mray.tune\u001b[39;49;00m \u001b[34mimport\u001b[39;49;00m run_experiments\r\n",
      "\u001b[34mfrom\u001b[39;49;00m \u001b[04m\u001b[36mray.tune.registry\u001b[39;49;00m \u001b[34mimport\u001b[39;49;00m register_env\r\n",
      "\u001b[34mimport\u001b[39;49;00m \u001b[04m\u001b[36mroboschool\u001b[39;49;00m\r\n",
      "\r\n",
      "\u001b[34mfrom\u001b[39;49;00m \u001b[04m\u001b[36msagemaker_rl.ray_launcher\u001b[39;49;00m \u001b[34mimport\u001b[39;49;00m SageMakerRayLauncher\r\n",
      "\r\n",
      "\r\n",
      "\u001b[34mdef\u001b[39;49;00m \u001b[32mcreate_environment\u001b[39;49;00m(env_config):\r\n",
      "    \u001b[37m# This import must happen inside the method so that worker processes import this code\u001b[39;49;00m\r\n",
      "    \u001b[34mimport\u001b[39;49;00m \u001b[04m\u001b[36mroboschool\u001b[39;49;00m\r\n",
      "    \u001b[34mreturn\u001b[39;49;00m gym.make(\u001b[33m'\u001b[39;49;00m\u001b[33mRoboschoolReacher-v1\u001b[39;49;00m\u001b[33m'\u001b[39;49;00m)\r\n",
      "\r\n",
      "\r\n",
      "\u001b[34mclass\u001b[39;49;00m \u001b[04m\u001b[32mMyLauncher\u001b[39;49;00m(SageMakerRayLauncher):\r\n",
      "\r\n",
      "    \u001b[34mdef\u001b[39;49;00m \u001b[32mregister_env_creator\u001b[39;49;00m(\u001b[36mself\u001b[39;49;00m):\r\n",
      "        register_env(\u001b[33m\"\u001b[39;49;00m\u001b[33mRoboschoolReacher-v1\u001b[39;49;00m\u001b[33m\"\u001b[39;49;00m, create_environment)\r\n",
      "\r\n",
      "    \u001b[34mdef\u001b[39;49;00m \u001b[32mget_experiment_config\u001b[39;49;00m(\u001b[36mself\u001b[39;49;00m):\r\n",
      "        \u001b[34mreturn\u001b[39;49;00m {\r\n",
      "          \u001b[33m\"\u001b[39;49;00m\u001b[33mtraining\u001b[39;49;00m\u001b[33m\"\u001b[39;49;00m: {\r\n",
      "            \u001b[33m\"\u001b[39;49;00m\u001b[33menv\u001b[39;49;00m\u001b[33m\"\u001b[39;49;00m: \u001b[33m\"\u001b[39;49;00m\u001b[33mRoboschoolReacher-v1\u001b[39;49;00m\u001b[33m\"\u001b[39;49;00m,\r\n",
      "            \u001b[33m\"\u001b[39;49;00m\u001b[33mrun\u001b[39;49;00m\u001b[33m\"\u001b[39;49;00m: \u001b[33m\"\u001b[39;49;00m\u001b[33mPPO\u001b[39;49;00m\u001b[33m\"\u001b[39;49;00m,\r\n",
      "            \u001b[33m\"\u001b[39;49;00m\u001b[33mstop\u001b[39;49;00m\u001b[33m\"\u001b[39;49;00m: {\r\n",
      "              \u001b[33m\"\u001b[39;49;00m\u001b[33mepisode_reward_mean\u001b[39;49;00m\u001b[33m\"\u001b[39;49;00m: \u001b[34m18\u001b[39;49;00m,\r\n",
      "            },\r\n",
      "            \u001b[33m\"\u001b[39;49;00m\u001b[33mconfig\u001b[39;49;00m\u001b[33m\"\u001b[39;49;00m: {\r\n",
      "              \u001b[33m\"\u001b[39;49;00m\u001b[33mgamma\u001b[39;49;00m\u001b[33m\"\u001b[39;49;00m: \u001b[34m0.995\u001b[39;49;00m,\r\n",
      "              \u001b[33m\"\u001b[39;49;00m\u001b[33mkl_coeff\u001b[39;49;00m\u001b[33m\"\u001b[39;49;00m: \u001b[34m1.0\u001b[39;49;00m,\r\n",
      "              \u001b[33m\"\u001b[39;49;00m\u001b[33mnum_sgd_iter\u001b[39;49;00m\u001b[33m\"\u001b[39;49;00m: \u001b[34m20\u001b[39;49;00m,\r\n",
      "              \u001b[33m\"\u001b[39;49;00m\u001b[33mlr\u001b[39;49;00m\u001b[33m\"\u001b[39;49;00m: \u001b[34m0.0001\u001b[39;49;00m,\r\n",
      "              \u001b[33m\"\u001b[39;49;00m\u001b[33msgd_minibatch_size\u001b[39;49;00m\u001b[33m\"\u001b[39;49;00m: \u001b[34m1000\u001b[39;49;00m,\r\n",
      "              \u001b[33m\"\u001b[39;49;00m\u001b[33mtrain_batch_size\u001b[39;49;00m\u001b[33m\"\u001b[39;49;00m: \u001b[34m25000\u001b[39;49;00m,\r\n",
      "              \u001b[33m\"\u001b[39;49;00m\u001b[33mmonitor\u001b[39;49;00m\u001b[33m\"\u001b[39;49;00m: \u001b[36mTrue\u001b[39;49;00m,  \u001b[37m# Record videos.\u001b[39;49;00m\r\n",
      "              \u001b[33m\"\u001b[39;49;00m\u001b[33mmodel\u001b[39;49;00m\u001b[33m\"\u001b[39;49;00m: {\r\n",
      "                \u001b[33m\"\u001b[39;49;00m\u001b[33mfree_log_std\u001b[39;49;00m\u001b[33m\"\u001b[39;49;00m: \u001b[36mTrue\u001b[39;49;00m\r\n",
      "              },\r\n",
      "              \u001b[33m\"\u001b[39;49;00m\u001b[33mnum_workers\u001b[39;49;00m\u001b[33m\"\u001b[39;49;00m: (\u001b[36mself\u001b[39;49;00m.num_cpus-\u001b[34m1\u001b[39;49;00m),\r\n",
      "              \u001b[33m\"\u001b[39;49;00m\u001b[33mnum_gpus\u001b[39;49;00m\u001b[33m\"\u001b[39;49;00m: \u001b[36mself\u001b[39;49;00m.num_gpus,\r\n",
      "              \u001b[33m\"\u001b[39;49;00m\u001b[33mbatch_mode\u001b[39;49;00m\u001b[33m\"\u001b[39;49;00m: \u001b[33m\"\u001b[39;49;00m\u001b[33mcomplete_episodes\u001b[39;49;00m\u001b[33m\"\u001b[39;49;00m\r\n",
      "            }\r\n",
      "          }\r\n",
      "        }\r\n",
      "\r\n",
      "\u001b[34mif\u001b[39;49;00m \u001b[31m__name__\u001b[39;49;00m == \u001b[33m\"\u001b[39;49;00m\u001b[33m__main__\u001b[39;49;00m\u001b[33m\"\u001b[39;49;00m:\r\n",
      "    MyLauncher().train_main()\r\n"
     ]
    }
   ],
   "source": [
    "!pygmentize src/train-{roboschool_problem}.py"
   ]
  },
  {
   "cell_type": "markdown",
   "metadata": {},
   "source": [
    "## Python SDK 스크립트 모드를 사용하여 RL 모델 훈련\n",
    "\n",
    "로컬 모드를 사용하는 경우 노트북 인스턴스에서 훈련이 실행됩니다. 훈련을 위해 SageMaker를 사용할 때 GPU 또는 CPU 인스턴스를 선택할 수 있습니다. RLEstimator는 RL 작업 훈련에 사용됩니다.\n",
    "\n",
    "1. 환경, 사전 설정 및 교육 코드가 업로드되는 소스 디렉토리를 지정합니다.\n",
    "2. 엔트리 포인트(entry point)를 훈련 코드로 지정합니다.\n",
    "3. RL 툴킷 및 프레임 워크를 선택합니다. 이는 RL 컨테이너의 ECR 경로로 자동 확인됩니다.\n",
    "4. 인스턴스 수, 작업 이름(job name), 출력에 대한 S3 경로 및 작업 이름과 같은 훈련 파라메터들을 정의합니다.\n",
    "5. RL 에이전트 알고리즘의 하이퍼파라미터를 지정합니다. `RLCOACH_PRESET`을 사용하여 사용하려는 RL 에이전트 알고리즘을 지정할 수 있습니다.\n",
    "6. [선택 사항] 여러분의 로그에서 캡처할 지표(metric)를 선택합니다. CloudWatch 및 SageMaker Notebook에서도 시각화할 수 있습니다."
   ]
  },
  {
   "cell_type": "code",
   "execution_count": 10,
   "metadata": {},
   "outputs": [
    {
     "name": "stdout",
     "output_type": "stream",
     "text": [
      "Training job: rl-roboschool-reacher-2020-03-28-05-05-09-295\n",
      "CPU times: user 138 ms, sys: 24.4 ms, total: 162 ms\n",
      "Wall time: 444 ms\n"
     ]
    }
   ],
   "source": [
    "%%time\n",
    "\n",
    "metric_definitions = RLEstimator.default_metric_definitions(RLToolkit.RAY)\n",
    "    \n",
    "estimator = RLEstimator(entry_point=\"train-%s.py\" % roboschool_problem,\n",
    "                        source_dir='src',\n",
    "                        dependencies=[\"common/sagemaker_rl\"],\n",
    "                        image_name=custom_image_name,\n",
    "                        role=role,\n",
    "                        train_instance_type=instance_type,\n",
    "                        train_instance_count=1,\n",
    "                        output_path=s3_output_path,\n",
    "                        base_job_name=job_name_prefix,\n",
    "                        metric_definitions=metric_definitions,\n",
    "                        hyperparameters={\n",
    "                          # Attention scientists!  You can override any Ray algorithm parameter here:\n",
    "                          #\"rl.training.config.horizon\": 5000,\n",
    "                          #\"rl.training.config.num_sgd_iter\": 10,\n",
    "                        }\n",
    "                    )\n",
    "\n",
    "estimator.fit(wait=local_mode)\n",
    "job_name = estimator.latest_training_job.job_name\n",
    "print(\"Training job: %s\" % job_name)"
   ]
  },
  {
   "cell_type": "markdown",
   "metadata": {},
   "source": [
    "## 시각화\n",
    "\n",
    "RL 훈련에는 시간이 오래 걸릴 수 있습니다. 따라서 훈련 작업이 동작하는 동안 훈련 작업의 진행 상황을 추적할 수 있는 다양한 방법들이 있습니다. 훈련 도중 일부 중간 출력이 S3에 저장되므로, 이를 캡처하도록 설정합니다."
   ]
  },
  {
   "cell_type": "code",
   "execution_count": 11,
   "metadata": {},
   "outputs": [
    {
     "name": "stdout",
     "output_type": "stream",
     "text": [
      "Job name: rl-roboschool-reacher-2020-03-28-05-05-09-295\n",
      "S3 job path: s3://sagemaker-us-west-2-143656149352/rl-roboschool-reacher-2020-03-28-05-05-09-295\n",
      "Intermediate folder path: s3://sagemaker-us-west-2-143656149352/rl-roboschool-reacher-2020-03-28-05-05-09-295/output/intermediate/\n",
      "Create local folder /tmp/rl-roboschool-reacher-2020-03-28-05-05-09-295\n"
     ]
    }
   ],
   "source": [
    "print(\"Job name: {}\".format(job_name))\n",
    "\n",
    "s3_url = \"s3://{}/{}\".format(s3_bucket,job_name)\n",
    "\n",
    "intermediate_folder_key = \"{}/output/intermediate/\".format(job_name)\n",
    "intermediate_url = \"s3://{}/{}\".format(s3_bucket, intermediate_folder_key)\n",
    "\n",
    "print(\"S3 job path: {}\".format(s3_url))\n",
    "print(\"Intermediate folder path: {}\".format(intermediate_url))\n",
    "    \n",
    "tmp_dir = \"/tmp/{}\".format(job_name)\n",
    "os.system(\"mkdir {}\".format(tmp_dir))\n",
    "print(\"Create local folder {}\".format(tmp_dir))"
   ]
  },
  {
   "cell_type": "markdown",
   "metadata": {},
   "source": [
    "### 훈련 롤아웃 비디오 가져오기\n",
    "\n",
    "특정 롤아웃의 비디오는 훈련 중 S3에 기록됩니다. 여기에서는 S3에서 마지막 `num_later_videos`개의 비디오 클립을 가져 와서 마지막 비디오를 렌더링합니다."
   ]
  },
  {
   "cell_type": "code",
   "execution_count": 68,
   "metadata": {},
   "outputs": [
    {
     "name": "stdout",
     "output_type": "stream",
     "text": [
      "Waiting for s3://sagemaker-us-west-2-143656149352/rl-roboschool-reacher-2020-03-28-05-05-09-295/output/intermediate/...\n",
      "Only downloading 40 of 84 files\n",
      "Downloading rl-roboschool-reacher-2020-03-28-05-05-09-295/output/intermediate/training/PPO_RoboschoolReacher-v1_0_2020-03-28_05-08-33b563bke5/openaigym.video.0.109.video000512.mp4\n",
      "Downloading rl-roboschool-reacher-2020-03-28-05-05-09-295/output/intermediate/training/PPO_RoboschoolReacher-v1_0_2020-03-28_05-08-33b563bke5/openaigym.video.0.109.video000729.mp4\n",
      "Downloading rl-roboschool-reacher-2020-03-28-05-05-09-295/output/intermediate/training/PPO_RoboschoolReacher-v1_0_2020-03-28_05-08-33b563bke5/openaigym.video.0.109.video001000.mp4\n",
      "Downloading rl-roboschool-reacher-2020-03-28-05-05-09-295/output/intermediate/training/PPO_RoboschoolReacher-v1_0_2020-03-28_05-08-33b563bke5/openaigym.video.0.109.video002000.mp4\n",
      "Downloading rl-roboschool-reacher-2020-03-28-05-05-09-295/output/intermediate/training/PPO_RoboschoolReacher-v1_0_2020-03-28_05-08-33b563bke5/openaigym.video.0.111.video000000.mp4\n",
      "Downloading rl-roboschool-reacher-2020-03-28-05-05-09-295/output/intermediate/training/PPO_RoboschoolReacher-v1_0_2020-03-28_05-08-33b563bke5/openaigym.video.0.111.video000001.mp4\n",
      "Downloading rl-roboschool-reacher-2020-03-28-05-05-09-295/output/intermediate/training/PPO_RoboschoolReacher-v1_0_2020-03-28_05-08-33b563bke5/openaigym.video.0.111.video000008.mp4\n",
      "Downloading rl-roboschool-reacher-2020-03-28-05-05-09-295/output/intermediate/training/PPO_RoboschoolReacher-v1_0_2020-03-28_05-08-33b563bke5/openaigym.video.0.111.video000027.mp4\n",
      "Downloading rl-roboschool-reacher-2020-03-28-05-05-09-295/output/intermediate/training/PPO_RoboschoolReacher-v1_0_2020-03-28_05-08-33b563bke5/openaigym.video.0.111.video000064.mp4\n",
      "Downloading rl-roboschool-reacher-2020-03-28-05-05-09-295/output/intermediate/training/PPO_RoboschoolReacher-v1_0_2020-03-28_05-08-33b563bke5/openaigym.video.0.111.video000125.mp4\n",
      "Downloading rl-roboschool-reacher-2020-03-28-05-05-09-295/output/intermediate/training/PPO_RoboschoolReacher-v1_0_2020-03-28_05-08-33b563bke5/openaigym.video.0.111.video000216.mp4\n",
      "Downloading rl-roboschool-reacher-2020-03-28-05-05-09-295/output/intermediate/training/PPO_RoboschoolReacher-v1_0_2020-03-28_05-08-33b563bke5/openaigym.video.0.111.video000343.mp4\n",
      "Downloading rl-roboschool-reacher-2020-03-28-05-05-09-295/output/intermediate/training/PPO_RoboschoolReacher-v1_0_2020-03-28_05-08-33b563bke5/openaigym.video.0.111.video000512.mp4\n",
      "Downloading rl-roboschool-reacher-2020-03-28-05-05-09-295/output/intermediate/training/PPO_RoboschoolReacher-v1_0_2020-03-28_05-08-33b563bke5/openaigym.video.0.111.video000729.mp4\n",
      "Downloading rl-roboschool-reacher-2020-03-28-05-05-09-295/output/intermediate/training/PPO_RoboschoolReacher-v1_0_2020-03-28_05-08-33b563bke5/openaigym.video.0.111.video001000.mp4\n",
      "Downloading rl-roboschool-reacher-2020-03-28-05-05-09-295/output/intermediate/training/PPO_RoboschoolReacher-v1_0_2020-03-28_05-08-33b563bke5/openaigym.video.0.111.video002000.mp4\n",
      "Downloading rl-roboschool-reacher-2020-03-28-05-05-09-295/output/intermediate/training/PPO_RoboschoolReacher-v1_0_2020-03-28_05-08-33b563bke5/openaigym.video.0.112.video000000.mp4\n",
      "Downloading rl-roboschool-reacher-2020-03-28-05-05-09-295/output/intermediate/training/PPO_RoboschoolReacher-v1_0_2020-03-28_05-08-33b563bke5/openaigym.video.0.112.video000001.mp4\n",
      "Downloading rl-roboschool-reacher-2020-03-28-05-05-09-295/output/intermediate/training/PPO_RoboschoolReacher-v1_0_2020-03-28_05-08-33b563bke5/openaigym.video.0.112.video000008.mp4\n",
      "Downloading rl-roboschool-reacher-2020-03-28-05-05-09-295/output/intermediate/training/PPO_RoboschoolReacher-v1_0_2020-03-28_05-08-33b563bke5/openaigym.video.0.112.video000027.mp4\n",
      "Downloading rl-roboschool-reacher-2020-03-28-05-05-09-295/output/intermediate/training/PPO_RoboschoolReacher-v1_0_2020-03-28_05-08-33b563bke5/openaigym.video.0.112.video000064.mp4\n",
      "Downloading rl-roboschool-reacher-2020-03-28-05-05-09-295/output/intermediate/training/PPO_RoboschoolReacher-v1_0_2020-03-28_05-08-33b563bke5/openaigym.video.0.112.video000125.mp4\n",
      "Downloading rl-roboschool-reacher-2020-03-28-05-05-09-295/output/intermediate/training/PPO_RoboschoolReacher-v1_0_2020-03-28_05-08-33b563bke5/openaigym.video.0.112.video000216.mp4\n",
      "Downloading rl-roboschool-reacher-2020-03-28-05-05-09-295/output/intermediate/training/PPO_RoboschoolReacher-v1_0_2020-03-28_05-08-33b563bke5/openaigym.video.0.112.video000343.mp4\n",
      "Downloading rl-roboschool-reacher-2020-03-28-05-05-09-295/output/intermediate/training/PPO_RoboschoolReacher-v1_0_2020-03-28_05-08-33b563bke5/openaigym.video.0.112.video000512.mp4\n",
      "Downloading rl-roboschool-reacher-2020-03-28-05-05-09-295/output/intermediate/training/PPO_RoboschoolReacher-v1_0_2020-03-28_05-08-33b563bke5/openaigym.video.0.112.video000729.mp4\n",
      "Downloading rl-roboschool-reacher-2020-03-28-05-05-09-295/output/intermediate/training/PPO_RoboschoolReacher-v1_0_2020-03-28_05-08-33b563bke5/openaigym.video.0.112.video001000.mp4\n",
      "Downloading rl-roboschool-reacher-2020-03-28-05-05-09-295/output/intermediate/training/PPO_RoboschoolReacher-v1_0_2020-03-28_05-08-33b563bke5/openaigym.video.0.112.video002000.mp4\n",
      "Downloading rl-roboschool-reacher-2020-03-28-05-05-09-295/output/intermediate/training/PPO_RoboschoolReacher-v1_0_2020-03-28_05-08-33b563bke5/openaigym.video.0.113.video000000.mp4\n",
      "Downloading rl-roboschool-reacher-2020-03-28-05-05-09-295/output/intermediate/training/PPO_RoboschoolReacher-v1_0_2020-03-28_05-08-33b563bke5/openaigym.video.0.113.video000001.mp4\n",
      "Downloading rl-roboschool-reacher-2020-03-28-05-05-09-295/output/intermediate/training/PPO_RoboschoolReacher-v1_0_2020-03-28_05-08-33b563bke5/openaigym.video.0.113.video000008.mp4\n",
      "Downloading rl-roboschool-reacher-2020-03-28-05-05-09-295/output/intermediate/training/PPO_RoboschoolReacher-v1_0_2020-03-28_05-08-33b563bke5/openaigym.video.0.113.video000027.mp4\n",
      "Downloading rl-roboschool-reacher-2020-03-28-05-05-09-295/output/intermediate/training/PPO_RoboschoolReacher-v1_0_2020-03-28_05-08-33b563bke5/openaigym.video.0.113.video000064.mp4\n",
      "Downloading rl-roboschool-reacher-2020-03-28-05-05-09-295/output/intermediate/training/PPO_RoboschoolReacher-v1_0_2020-03-28_05-08-33b563bke5/openaigym.video.0.113.video000125.mp4\n",
      "Downloading rl-roboschool-reacher-2020-03-28-05-05-09-295/output/intermediate/training/PPO_RoboschoolReacher-v1_0_2020-03-28_05-08-33b563bke5/openaigym.video.0.113.video000216.mp4\n",
      "Downloading rl-roboschool-reacher-2020-03-28-05-05-09-295/output/intermediate/training/PPO_RoboschoolReacher-v1_0_2020-03-28_05-08-33b563bke5/openaigym.video.0.113.video000343.mp4\n",
      "Downloading rl-roboschool-reacher-2020-03-28-05-05-09-295/output/intermediate/training/PPO_RoboschoolReacher-v1_0_2020-03-28_05-08-33b563bke5/openaigym.video.0.113.video000512.mp4\n",
      "Downloading rl-roboschool-reacher-2020-03-28-05-05-09-295/output/intermediate/training/PPO_RoboschoolReacher-v1_0_2020-03-28_05-08-33b563bke5/openaigym.video.0.113.video000729.mp4\n",
      "Downloading rl-roboschool-reacher-2020-03-28-05-05-09-295/output/intermediate/training/PPO_RoboschoolReacher-v1_0_2020-03-28_05-08-33b563bke5/openaigym.video.0.113.video001000.mp4\n",
      "Downloading rl-roboschool-reacher-2020-03-28-05-05-09-295/output/intermediate/training/PPO_RoboschoolReacher-v1_0_2020-03-28_05-08-33b563bke5/openaigym.video.0.113.video002000.mp4\n"
     ]
    }
   ],
   "source": [
    "num_later_videos = 40 \n",
    "recent_videos = wait_for_s3_object(\n",
    "            s3_bucket, intermediate_folder_key, tmp_dir, \n",
    "            fetch_only=(lambda obj: obj.key.endswith(\".mp4\") and obj.size>0), \n",
    "            limit=num_later_videos, training_job_name=job_name)"
   ]
  },
  {
   "cell_type": "code",
   "execution_count": 69,
   "metadata": {},
   "outputs": [
    {
     "name": "stdout",
     "output_type": "stream",
     "text": [
      "40\n"
     ]
    },
    {
     "data": {
      "application/vnd.jupyter.widget-view+json": {
       "model_id": "eccf0f823e6a42eba720206daea94a97",
       "version_major": 2,
       "version_minor": 0
      },
      "text/plain": [
       "interactive(children=(IntSlider(value=0, description='i', max=39), Button(description='Run Interact', style=Bu…"
      ]
     },
     "metadata": {},
     "output_type": "display_data"
    },
    {
     "name": "stdout",
     "output_type": "stream",
     "text": [
      "i가 증가할 수록(later video) 에이전트가 좀 더 나은 행동을 수행하는 것을 볼 수 있습니다.\n"
     ]
    }
   ],
   "source": [
    "from __future__ import print_function\n",
    "from ipywidgets import interact, interactive, fixed, interact_manual, Video\n",
    "import ipywidgets as widgets\n",
    "video = 0\n",
    "\n",
    "def showvideo(i):\n",
    "    last_video = sorted(recent_videos)[i]\n",
    "    return Video.from_file(last_video)\n",
    "print(len(recent_videos))\n",
    "\n",
    "video = interact_manual(showvideo, i=widgets.IntSlider(min=0,max=len(recent_videos)-1,step=1,value=0));\n",
    "print(\"i가 증가할 수록(later video) 에이전트가 좀 더 나은 행동을 수행하는 것을 볼 수 있습니다.\")"
   ]
  },
  {
   "cell_type": "code",
   "execution_count": 67,
   "metadata": {},
   "outputs": [],
   "source": [
    "# last_video = sorted(recent_videos)[-1]  # Pick which video to watch\n",
    "# os.system(\"mkdir -p ./src/tmp_render_1/ && cp {} ./src/tmp_render_1/last_video.mp4\".format(last_video))\n",
    "# HTML('<video src=\"./src/tmp_render_1/last_video.mp4\" controls autoplay></video>')"
   ]
  },
  {
   "cell_type": "markdown",
   "metadata": {},
   "source": [
    "### 훈련 작업에 대한 지표 plot\n",
    "\n",
    "CloudWatch 지표에 기록된 알고리즘 지표를 사용하여 실행 중인 훈련의 보상 지표를 볼 수 있습니다. 시간이 지남에 따라, 모델의 성능을 볼 수 있도록 이를 plot할 수 있습니다."
   ]
  },
  {
   "cell_type": "code",
   "execution_count": 60,
   "metadata": {},
   "outputs": [
    {
     "data": {
      "image/png": "[encoded data removed]",
      "text/plain": [
       "<Figure size 864x360 with 1 Axes>"
      ]
     },
     "metadata": {},
     "output_type": "display_data"
    }
   ],
   "source": [
    "%matplotlib inline\n",
    "from sagemaker.analytics import TrainingJobAnalytics\n",
    "\n",
    "if not local_mode:\n",
    "    df = TrainingJobAnalytics(job_name, ['episode_reward_mean']).dataframe()\n",
    "    num_metrics = len(df)\n",
    "    if num_metrics == 0:\n",
    "        print(\"No algorithm metrics found in CloudWatch\")\n",
    "    else:\n",
    "        plt = df.plot(x='timestamp', y='value', figsize=(12,5), legend=True, style='b-')\n",
    "        plt.set_ylabel('Mean reward per episode')\n",
    "        plt.set_xlabel('Training time (s)')\n",
    "else:\n",
    "    print(\"Can't plot metrics in local mode.\")"
   ]
  },
  {
   "cell_type": "markdown",
   "metadata": {},
   "source": [
    "### 훈련 진행 상황 모니터링\n",
    "\n",
    "위의 시각화 셀을 반복해서 실행하여 최신 비디오를 얻거나, 훈련 작업이 진행됨에 따라 최신 지표를 볼 수 있습니다."
   ]
  },
  {
   "cell_type": "markdown",
   "metadata": {},
   "source": [
    "## RL 모델 평가\n",
    "최종 체크포인트 모델을 사용하여 RL 에이전트에 대한 평가를 실행합니다.\n",
    "\n",
    "### 체크포인트 모델 로드\n",
    "\n",
    "이전에 훈련된 모델의 체크포인트 데이터는 체크포인트 채널에서 평가/추론을 위해 전달됩니다. 로컬 모드에서는 로컬 디렉토리를 간단하게 사용할 수 있지만, SageMaker 모드에서는 먼저 S3로 이동해야 합니다."
   ]
  },
  {
   "cell_type": "code",
   "execution_count": null,
   "metadata": {},
   "outputs": [],
   "source": [
    "if local_mode:\n",
    "    model_tar_key = \"{}/model.tar.gz\".format(job_name)\n",
    "else:\n",
    "    model_tar_key = \"{}/output/model.tar.gz\".format(job_name)\n",
    "    \n",
    "local_checkpoint_dir = \"{}/model\".format(tmp_dir)\n",
    "\n",
    "wait_for_s3_object(s3_bucket, model_tar_key, tmp_dir, training_job_name=job_name)  \n",
    "\n",
    "if not os.path.isfile(\"{}/model.tar.gz\".format(tmp_dir)):\n",
    "    raise FileNotFoundError(\"File model.tar.gz not found\")\n",
    "    \n",
    "os.system(\"mkdir -p {}\".format(local_checkpoint_dir))\n",
    "os.system(\"tar -xvzf {}/model.tar.gz -C {}\".format(tmp_dir, local_checkpoint_dir))\n",
    "\n",
    "print(\"Checkpoint directory {}\".format(local_checkpoint_dir))"
   ]
  },
  {
   "cell_type": "code",
   "execution_count": null,
   "metadata": {},
   "outputs": [],
   "source": [
    "if local_mode:\n",
    "    checkpoint_path = 'file://{}'.format(local_checkpoint_dir)\n",
    "    print(\"Local checkpoint file path: {}\".format(local_checkpoint_dir))\n",
    "else:\n",
    "    checkpoint_path = \"s3://{}/{}/checkpoint/\".format(s3_bucket, job_name)\n",
    "    if not os.listdir(local_checkpoint_dir):\n",
    "        raise FileNotFoundError(\"Checkpoint files not found under the path\")\n",
    "    os.system(\"aws s3 cp --recursive {} {}\".format(local_checkpoint_dir, checkpoint_path))\n",
    "    print(\"S3 checkpoint file path: {}\".format(checkpoint_path))"
   ]
  },
  {
   "cell_type": "code",
   "execution_count": null,
   "metadata": {},
   "outputs": [],
   "source": [
    "%%time\n",
    "    \n",
    "estimator_eval = RLEstimator(entry_point=\"evaluate-ray.py\",\n",
    "                        source_dir='src',\n",
    "                        dependencies=[\"common/sagemaker_rl\"],\n",
    "                        image_name=custom_image_name,\n",
    "                        role=role,\n",
    "                        train_instance_type=instance_type,\n",
    "                        train_instance_count=1,\n",
    "                        base_job_name=job_name_prefix + \"-evaluation\",\n",
    "                        hyperparameters={\n",
    "                            \"evaluate_episodes\": 5,\n",
    "                            \"algorithm\": \"PPO\",\n",
    "                            \"env\": 'Roboschool%s-v1' % roboschool_problem.capitalize()\n",
    "                        }\n",
    "                    )\n",
    "\n",
    "estimator_eval.fit({'model': checkpoint_path})\n",
    "job_name = estimator_eval.latest_training_job.job_name\n",
    "print(\"Evaluation job: %s\" % job_name)"
   ]
  },
  {
   "cell_type": "markdown",
   "metadata": {},
   "source": [
    "### 출력 시각화\n",
    "\n",
    "선택적으로, 이전에 정의된 step들을 실행하여 출력을 시각화할 수 있습니다."
   ]
  },
  {
   "cell_type": "markdown",
   "metadata": {},
   "source": [
    "# 모델 배포\n",
    "\n",
    "이제 환경 관측에 따라 최적의 조치를 취할 수 있도록 RL 정책을 배포하겠습니다."
   ]
  },
  {
   "cell_type": "code",
   "execution_count": null,
   "metadata": {},
   "outputs": [],
   "source": [
    "from sagemaker.tensorflow.serving import Model\n",
    "\n",
    "model = Model(model_data=estimator.model_data,\n",
    "              role=role)\n",
    "\n",
    "predictor = model.deploy(initial_instance_count=1, instance_type=instance_type)"
   ]
  },
  {
   "cell_type": "code",
   "execution_count": null,
   "metadata": {},
   "outputs": [],
   "source": [
    "# Mapping of environments to observation space\n",
    "observation_space_mapping = {\"reacher\": 9,\n",
    "                             \"hopper\": 15,\n",
    "                             \"humanoid\": 44}"
   ]
  },
  {
   "cell_type": "markdown",
   "metadata": {},
   "source": [
    "이제 더미 관측을 사용하여 행동(action)을 예측하겠습니다."
   ]
  },
  {
   "cell_type": "code",
   "execution_count": null,
   "metadata": {},
   "outputs": [],
   "source": [
    "input = {\n",
    "  'observations': np.ones((observation_space_mapping[roboschool_problem])),\n",
    "    \n",
    "}\n",
    "result = predictor.predict(input)\n",
    "result"
   ]
  },
  {
   "cell_type": "markdown",
   "metadata": {},
   "source": [
    "### 엔드포인트 삭제"
   ]
  },
  {
   "cell_type": "code",
   "execution_count": null,
   "metadata": {},
   "outputs": [],
   "source": [
    "predictor.delete_endpoint()"
   ]
  }
 ],
 "metadata": {
  "anaconda-cloud": {},
  "kernelspec": {
   "display_name": "conda_tensorflow_p36",
   "language": "python",
   "name": "conda_tensorflow_p36"
  },
  "language_info": {
   "codemirror_mode": {
    "name": "ipython",
    "version": 3
   },
   "file_extension": ".py",
   "mimetype": "text/x-python",
   "name": "python",
   "nbconvert_exporter": "python",
   "pygments_lexer": "ipython3",
   "version": "3.6.6"
  },
  "notice": "Copyright 2018 Amazon.com, Inc. or its affiliates. All Rights Reserved. Licensed under the Apache License, Version 2.0 (the \"License\"). You may not use this file except in compliance with the License. A copy of the License is located at http://aws.amazon.com/apache2.0/ or in the \"license\" file accompanying this file. This file is distributed on an \"AS IS\" BASIS, WITHOUT WARRANTIES OR CONDITIONS OF ANY KIND, either express or implied. See the License for the specific language governing permissions and limitations under the License."
 },
 "nbformat": 4,
 "nbformat_minor": 2
}
